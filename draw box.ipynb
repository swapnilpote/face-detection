{
 "cells": [
  {
   "cell_type": "code",
   "execution_count": 1,
   "metadata": {
    "collapsed": true
   },
   "outputs": [],
   "source": [
    "import cv2\n",
    "import numpy as np\n",
    "import os"
   ]
  },
  {
   "cell_type": "code",
   "execution_count": 2,
   "metadata": {
    "collapsed": true
   },
   "outputs": [],
   "source": [
    "path = 'data/sample/'"
   ]
  },
  {
   "cell_type": "code",
   "execution_count": 3,
   "metadata": {
    "collapsed": false
   },
   "outputs": [],
   "source": [
    "train_xml_files = [os.path.join(path + 'train_xml/', i) for i in os.listdir(path + 'train_xml/') \n",
    "                   if os.path.isfile(os.path.join(path + 'train_xml/', i))]"
   ]
  },
  {
   "cell_type": "code",
   "execution_count": 4,
   "metadata": {
    "collapsed": true
   },
   "outputs": [],
   "source": [
    "valid_xml_files = [os.path.join(path + 'valid_xml/', i) for i in os.listdir(path + 'valid_xml/') \n",
    "                   if os.path.isfile(os.path.join(path + 'valid_xml/', i))]"
   ]
  },
  {
   "cell_type": "code",
   "execution_count": 5,
   "metadata": {
    "collapsed": true
   },
   "outputs": [],
   "source": [
    "from xml.dom import minidom"
   ]
  },
  {
   "cell_type": "code",
   "execution_count": 29,
   "metadata": {
    "collapsed": false
   },
   "outputs": [],
   "source": [
    "xmldoc = minidom.parse(train_xml_files[0])"
   ]
  },
  {
   "cell_type": "code",
   "execution_count": 30,
   "metadata": {
    "collapsed": false
   },
   "outputs": [],
   "source": [
    "annotation = xmldoc.getElementsByTagName('annotation')[0]"
   ]
  },
  {
   "cell_type": "code",
   "execution_count": 31,
   "metadata": {
    "collapsed": false
   },
   "outputs": [
    {
     "name": "stdout",
     "output_type": "stream",
     "text": [
      "2002_09_02_img_15510.jpg\n"
     ]
    }
   ],
   "source": [
    "filename = annotation.getElementsByTagName('filename')[0]\n",
    "print(filename.firstChild.data)"
   ]
  },
  {
   "cell_type": "code",
   "execution_count": 32,
   "metadata": {
    "collapsed": false
   },
   "outputs": [],
   "source": [
    "file_sizes = annotation.getElementsByTagName('size')[0]\n",
    "width = file_sizes.getElementsByTagName('width')[0]\n",
    "height = file_sizes.getElementsByTagName('height')[0]"
   ]
  },
  {
   "cell_type": "code",
   "execution_count": 33,
   "metadata": {
    "collapsed": false
   },
   "outputs": [
    {
     "name": "stdout",
     "output_type": "stream",
     "text": [
      "293 450\n"
     ]
    }
   ],
   "source": [
    "print(width.firstChild.data, height.firstChild.data)"
   ]
  },
  {
   "cell_type": "code",
   "execution_count": 34,
   "metadata": {
    "collapsed": true
   },
   "outputs": [],
   "source": [
    "obj = annotation.getElementsByTagName('object')[0]\n",
    "bndbox = obj.getElementsByTagName('bndbox')[0]\n",
    "\n",
    "xmin = bndbox.getElementsByTagName('xmin')[0]\n",
    "xmin = int(xmin.firstChild.data)\n",
    "\n",
    "ymin = bndbox.getElementsByTagName('ymin')[0]\n",
    "ymin = int(ymin.firstChild.data)\n",
    "\n",
    "xmax = bndbox.getElementsByTagName('xmax')[0]\n",
    "xmax = int(xmax.firstChild.data)\n",
    "\n",
    "ymax = bndbox.getElementsByTagName('ymax')[0]\n",
    "ymax = int(ymax.firstChild.data)"
   ]
  },
  {
   "cell_type": "code",
   "execution_count": 35,
   "metadata": {
    "collapsed": false
   },
   "outputs": [
    {
     "name": "stdout",
     "output_type": "stream",
     "text": [
      "71 52 218 230\n"
     ]
    }
   ],
   "source": [
    "print(xmin, ymin, xmax, ymax)"
   ]
  },
  {
   "cell_type": "code",
   "execution_count": 38,
   "metadata": {
    "collapsed": false
   },
   "outputs": [
    {
     "data": {
      "text/plain": [
       "255"
      ]
     },
     "execution_count": 38,
     "metadata": {},
     "output_type": "execute_result"
    }
   ],
   "source": [
    "img = cv2.imread(path + 'train/face/' + filename.firstChild.data, cv2.COLOR_BGR2RGB)\n",
    "\n",
    "# coordinates of the vertex at the top left (x, y)\n",
    "# coordinates of the lower right vertex (x, y)\n",
    "# 123.583300 85.549500 1.265839 269.693400 161.781200\n",
    "# img = cv2.rectangle(img, (161, 20), (414, 291), (0,0,255), 2)\n",
    "# img = cv2.rectangle(img, (161, 20), (414, 291), (0,255,0), 2)\n",
    "\n",
    "img = cv2.rectangle(img, (xmin, ymin), (xmax, ymax), (0,0,255), 2)\n",
    "\n",
    "cv2.imshow('Image', img)\n",
    "cv2.waitKey(0)"
   ]
  },
  {
   "cell_type": "code",
   "execution_count": 37,
   "metadata": {
    "collapsed": false
   },
   "outputs": [
    {
     "name": "stdout",
     "output_type": "stream",
     "text": [
      "0.764505119453925 0.49777777777777776\n",
      "54 25 166 114\n"
     ]
    }
   ],
   "source": [
    "orig_width = int(width.firstChild.data)\n",
    "orig_height = int(height.firstChild.data)\n",
    "\n",
    "conv_width = 224. / orig_width\n",
    "conv_height = 224. / orig_height\n",
    "\n",
    "print(conv_width, conv_height)\n",
    "\n",
    "new_xmin = int(xmin * conv_width)\n",
    "new_ymin = int(ymin * conv_height)\n",
    "new_xmax = int(xmax * conv_width)\n",
    "new_ymax = int(ymax * conv_height)\n",
    "\n",
    "print(new_xmin, new_ymin, new_xmax, new_ymax)"
   ]
  },
  {
   "cell_type": "code",
   "execution_count": 39,
   "metadata": {
    "collapsed": false
   },
   "outputs": [
    {
     "data": {
      "text/plain": [
       "255"
      ]
     },
     "execution_count": 39,
     "metadata": {},
     "output_type": "execute_result"
    }
   ],
   "source": [
    "img2 = cv2.imread(path + 'train/face/' + filename.firstChild.data, cv2.COLOR_BGR2RGB)\n",
    "\n",
    "img2 = cv2.resize(img2, (224, 224))\n",
    "\n",
    "img2 = cv2.rectangle(img2, (new_xmin, new_ymin), (new_xmax, new_ymax), (0,0,255), 2)\n",
    "\n",
    "cv2.imshow('Image', img2)\n",
    "cv2.waitKey(0)"
   ]
  },
  {
   "cell_type": "markdown",
   "metadata": {},
   "source": [
    "# Collect all originals image info like filename, width, height, bound box"
   ]
  },
  {
   "cell_type": "code",
   "execution_count": 61,
   "metadata": {
    "collapsed": true
   },
   "outputs": [],
   "source": [
    "orig_bb_box = []"
   ]
  },
  {
   "cell_type": "code",
   "execution_count": 62,
   "metadata": {
    "collapsed": true
   },
   "outputs": [],
   "source": [
    "for file in train_xml_files:\n",
    "    xmldoc = minidom.parse(file)\n",
    "    \n",
    "    annotation = xmldoc.getElementsByTagName('annotation')[0]\n",
    "    \n",
    "    filename = annotation.getElementsByTagName('filename')[0]\n",
    "    filename = filename.firstChild.data\n",
    "    \n",
    "    file_sizes = annotation.getElementsByTagName('size')[0]\n",
    "    width = file_sizes.getElementsByTagName('width')[0]\n",
    "    width = int(width.firstChild.data)\n",
    "    height = file_sizes.getElementsByTagName('height')[0]\n",
    "    height = int(height.firstChild.data)\n",
    "    \n",
    "    obj = annotation.getElementsByTagName('object')[0]\n",
    "    bndbox = obj.getElementsByTagName('bndbox')[0]\n",
    "\n",
    "    xmin = bndbox.getElementsByTagName('xmin')[0]\n",
    "    xmin = int(xmin.firstChild.data)\n",
    "\n",
    "    ymin = bndbox.getElementsByTagName('ymin')[0]\n",
    "    ymin = int(ymin.firstChild.data)\n",
    "\n",
    "    xmax = bndbox.getElementsByTagName('xmax')[0]\n",
    "    xmax = int(xmax.firstChild.data)\n",
    "\n",
    "    ymax = bndbox.getElementsByTagName('ymax')[0]\n",
    "    ymax = int(ymax.firstChild.data)\n",
    "    \n",
    "    orig_bb_box.append([width, height, xmin, ymin, xmax, ymax])"
   ]
  },
  {
   "cell_type": "code",
   "execution_count": 63,
   "metadata": {
    "collapsed": false
   },
   "outputs": [],
   "source": [
    "orig_bb_box = np.array(orig_bb_box)"
   ]
  },
  {
   "cell_type": "code",
   "execution_count": 64,
   "metadata": {
    "collapsed": false
   },
   "outputs": [
    {
     "data": {
      "text/plain": [
       "((261, 6), array([[293, 450,  71,  52, 218, 230]]))"
      ]
     },
     "execution_count": 64,
     "metadata": {},
     "output_type": "execute_result"
    }
   ],
   "source": [
    "orig_bb_box.shape, orig_bb_box[0:1]"
   ]
  },
  {
   "cell_type": "code",
   "execution_count": 68,
   "metadata": {
    "collapsed": true
   },
   "outputs": [],
   "source": [
    "resized_bb_box = []"
   ]
  },
  {
   "cell_type": "code",
   "execution_count": 69,
   "metadata": {
    "collapsed": false
   },
   "outputs": [],
   "source": [
    "for i in orig_bb_box:\n",
    "    conv_width = 224. / i[0]\n",
    "    conv_height = 224. / i[1]\n",
    "\n",
    "    new_xmin = int(xmin * conv_width)\n",
    "    new_ymin = int(ymin * conv_height)\n",
    "    new_xmax = int(xmax * conv_width)\n",
    "    new_ymax = int(ymax * conv_height)\n",
    "\n",
    "    resized_bb_box.append([new_xmin, new_ymin, new_xmax, new_ymax])"
   ]
  },
  {
   "cell_type": "code",
   "execution_count": 70,
   "metadata": {
    "collapsed": true
   },
   "outputs": [],
   "source": [
    "resized_bb_box = np.array(resized_bb_box)"
   ]
  },
  {
   "cell_type": "code",
   "execution_count": 71,
   "metadata": {
    "collapsed": false
   },
   "outputs": [
    {
     "data": {
      "text/plain": [
       "((261, 4), array([[ 51,   3, 128,  77]]))"
      ]
     },
     "execution_count": 71,
     "metadata": {},
     "output_type": "execute_result"
    }
   ],
   "source": [
    "resized_bb_box.shape, resized_bb_box[:1]"
   ]
  },
  {
   "cell_type": "code",
   "execution_count": null,
   "metadata": {
    "collapsed": true
   },
   "outputs": [],
   "source": []
  }
 ],
 "metadata": {
  "anaconda-cloud": {},
  "kernelspec": {
   "display_name": "Python [default]",
   "language": "python",
   "name": "python3"
  },
  "language_info": {
   "codemirror_mode": {
    "name": "ipython",
    "version": 3
   },
   "file_extension": ".py",
   "mimetype": "text/x-python",
   "name": "python",
   "nbconvert_exporter": "python",
   "pygments_lexer": "ipython3",
   "version": "3.5.2"
  }
 },
 "nbformat": 4,
 "nbformat_minor": 1
}
