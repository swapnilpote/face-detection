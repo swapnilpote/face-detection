{
 "cells": [
  {
   "cell_type": "code",
   "execution_count": 1,
   "metadata": {
    "collapsed": true
   },
   "outputs": [],
   "source": [
    "import cv2\n",
    "import numpy as np\n",
    "import os"
   ]
  },
  {
   "cell_type": "code",
   "execution_count": 2,
   "metadata": {
    "collapsed": true
   },
   "outputs": [],
   "source": [
    "path = 'data/sample/'"
   ]
  },
  {
   "cell_type": "code",
   "execution_count": 3,
   "metadata": {
    "collapsed": false
   },
   "outputs": [],
   "source": [
    "train_xml_files = [os.path.join(path + 'train_xml/', i) for i in os.listdir(path + 'train_xml/') \n",
    "                   if os.path.isfile(os.path.join(path + 'train_xml/', i))]"
   ]
  },
  {
   "cell_type": "code",
   "execution_count": 4,
   "metadata": {
    "collapsed": true
   },
   "outputs": [],
   "source": [
    "valid_xml_files = [os.path.join(path + 'valid_xml/', i) for i in os.listdir(path + 'valid_xml/') \n",
    "                   if os.path.isfile(os.path.join(path + 'valid_xml/', i))]"
   ]
  },
  {
   "cell_type": "code",
   "execution_count": 5,
   "metadata": {
    "collapsed": true
   },
   "outputs": [],
   "source": [
    "from xml.dom import minidom"
   ]
  },
  {
   "cell_type": "code",
   "execution_count": 6,
   "metadata": {
    "collapsed": false
   },
   "outputs": [],
   "source": [
    "xmldoc = minidom.parse(train_xml_files[10])"
   ]
  },
  {
   "cell_type": "code",
   "execution_count": 7,
   "metadata": {
    "collapsed": false
   },
   "outputs": [],
   "source": [
    "annotation = xmldoc.getElementsByTagName('annotation')[0]"
   ]
  },
  {
   "cell_type": "code",
   "execution_count": 8,
   "metadata": {
    "collapsed": false
   },
   "outputs": [
    {
     "name": "stdout",
     "output_type": "stream",
     "text": [
      "2002_08_16_img_450.jpg\n"
     ]
    }
   ],
   "source": [
    "filename = annotation.getElementsByTagName('filename')[0]\n",
    "print(filename.firstChild.data)"
   ]
  },
  {
   "cell_type": "code",
   "execution_count": 9,
   "metadata": {
    "collapsed": false
   },
   "outputs": [],
   "source": [
    "file_sizes = annotation.getElementsByTagName('size')[0]\n",
    "width = file_sizes.getElementsByTagName('width')[0]\n",
    "height = file_sizes.getElementsByTagName('height')[0]"
   ]
  },
  {
   "cell_type": "code",
   "execution_count": 10,
   "metadata": {
    "collapsed": false
   },
   "outputs": [
    {
     "name": "stdout",
     "output_type": "stream",
     "text": [
      "450 329\n"
     ]
    }
   ],
   "source": [
    "print(width.firstChild.data, height.firstChild.data)"
   ]
  },
  {
   "cell_type": "code",
   "execution_count": 11,
   "metadata": {
    "collapsed": true
   },
   "outputs": [],
   "source": [
    "obj = annotation.getElementsByTagName('object')[0]\n",
    "bndbox = obj.getElementsByTagName('bndbox')[0]\n",
    "\n",
    "xmin = bndbox.getElementsByTagName('xmin')[0]\n",
    "xmin = int(xmin.firstChild.data)\n",
    "\n",
    "ymin = bndbox.getElementsByTagName('ymin')[0]\n",
    "ymin = int(ymin.firstChild.data)\n",
    "\n",
    "xmax = bndbox.getElementsByTagName('xmax')[0]\n",
    "xmax = int(xmax.firstChild.data)\n",
    "\n",
    "ymax = bndbox.getElementsByTagName('ymax')[0]\n",
    "ymax = int(ymax.firstChild.data)"
   ]
  },
  {
   "cell_type": "code",
   "execution_count": 12,
   "metadata": {
    "collapsed": false
   },
   "outputs": [
    {
     "name": "stdout",
     "output_type": "stream",
     "text": [
      "168 153 248 249\n"
     ]
    }
   ],
   "source": [
    "print(xmin, ymin, xmax, ymax)"
   ]
  },
  {
   "cell_type": "code",
   "execution_count": 13,
   "metadata": {
    "collapsed": false
   },
   "outputs": [
    {
     "data": {
      "text/plain": [
       "255"
      ]
     },
     "execution_count": 13,
     "metadata": {},
     "output_type": "execute_result"
    }
   ],
   "source": [
    "img = cv2.imread(path + 'train/face/' + filename.firstChild.data, cv2.COLOR_BGR2RGB)\n",
    "\n",
    "# coordinates of the vertex at the top left (x, y)\n",
    "# coordinates of the lower right vertex (x, y)\n",
    "# 123.583300 85.549500 1.265839 269.693400 161.781200\n",
    "# img = cv2.rectangle(img, (161, 20), (414, 291), (0,0,255), 2)\n",
    "# img = cv2.rectangle(img, (161, 20), (414, 291), (0,255,0), 2)\n",
    "\n",
    "img = cv2.rectangle(img, (xmin, ymin), (xmax, ymax), (0,0,255), 2)\n",
    "\n",
    "cv2.imshow('Image', img)\n",
    "cv2.waitKey(0)"
   ]
  },
  {
   "cell_type": "code",
   "execution_count": null,
   "metadata": {
    "collapsed": true
   },
   "outputs": [],
   "source": [
    "for file in train_xml_files:\n",
    "    xmldoc = minidom.parse(file)\n",
    "    \n",
    "    annotation = xmldoc.getElementsByTagName('annotation')[0]\n",
    "    \n",
    "    filename = annotation.getElementsByTagName('filename')[0]\n",
    "    filename = filename.firstChild.data\n",
    "    \n",
    "    file_sizes = annotation.getElementsByTagName('size')[0]\n",
    "    width = file_sizes.getElementsByTagName('width')[0]\n",
    "    width = int(width.firstChild.data)\n",
    "    height = file_sizes.getElementsByTagName('height')[0]\n",
    "    height = int(height.firstChild.data)\n",
    "    \n",
    "    obj = annotation.getElementsByTagName('object')[0]\n",
    "    bndbox = obj.getElementsByTagName('bndbox')[0]\n",
    "\n",
    "    xmin = bndbox.getElementsByTagName('xmin')[0]\n",
    "    xmin = int(xmin.firstChild.data)\n",
    "\n",
    "    ymin = bndbox.getElementsByTagName('ymin')[0]\n",
    "    ymin = int(ymin.firstChild.data)\n",
    "\n",
    "    xmax = bndbox.getElementsByTagName('xmax')[0]\n",
    "    xmax = int(xmax.firstChild.data)\n",
    "\n",
    "    ymax = bndbox.getElementsByTagName('ymax')[0]\n",
    "    ymax = int(ymax.firstChild.data)"
   ]
  }
 ],
 "metadata": {
  "anaconda-cloud": {},
  "kernelspec": {
   "display_name": "Python [default]",
   "language": "python",
   "name": "python3"
  },
  "language_info": {
   "codemirror_mode": {
    "name": "ipython",
    "version": 3
   },
   "file_extension": ".py",
   "mimetype": "text/x-python",
   "name": "python",
   "nbconvert_exporter": "python",
   "pygments_lexer": "ipython3",
   "version": "3.5.2"
  }
 },
 "nbformat": 4,
 "nbformat_minor": 1
}
