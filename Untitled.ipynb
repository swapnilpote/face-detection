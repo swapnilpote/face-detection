{
 "cells": [
  {
   "cell_type": "code",
   "execution_count": 105,
   "metadata": {
    "collapsed": false
   },
   "outputs": [],
   "source": [
    "%matplotlib inline\n",
    "\n",
    "from keras.models import Sequential, Model\n",
    "from keras.layers import Input\n",
    "from keras.layers.core import Dense, Dropout, Flatten, Lambda\n",
    "from keras.layers.convolutional import Conv2D, Conv2DTranspose, MaxPooling2D\n",
    "from keras.optimizers import Adam\n",
    "from keras.utils.np_utils import to_categorical\n",
    "from keras.preprocessing.image import ImageDataGenerator\n",
    "from keras.layers.normalization import BatchNormalization\n",
    "from keras.utils import np_utils\n",
    "\n",
    "import numpy as np\n",
    "import pandas as pd\n",
    "import matplotlib.pyplot as plt\n",
    "import os, math, json, cv2\n",
    "from glob import glob\n",
    "import bcolz\n",
    "from xml.dom import minidom"
   ]
  },
  {
   "cell_type": "code",
   "execution_count": 2,
   "metadata": {
    "collapsed": false
   },
   "outputs": [],
   "source": [
    "trn_path = 'data/sample/train/'\n",
    "val_path = 'data/sample/valid/'"
   ]
  },
  {
   "cell_type": "markdown",
   "metadata": {},
   "source": [
    "# For train class images"
   ]
  },
  {
   "cell_type": "code",
   "execution_count": 3,
   "metadata": {
    "collapsed": false
   },
   "outputs": [
    {
     "data": {
      "text/plain": [
       "['face', 'no_face']"
      ]
     },
     "execution_count": 3,
     "metadata": {},
     "output_type": "execute_result"
    }
   ],
   "source": [
    "classes = [i for i in os.listdir(trn_path) if os.path.isdir(os.path.join(trn_path, i))]\n",
    "classes"
   ]
  },
  {
   "cell_type": "code",
   "execution_count": 4,
   "metadata": {
    "collapsed": false
   },
   "outputs": [],
   "source": [
    "trn_x = []\n",
    "trn_y = []"
   ]
  },
  {
   "cell_type": "code",
   "execution_count": 5,
   "metadata": {
    "collapsed": false
   },
   "outputs": [],
   "source": [
    "for cls in classes:\n",
    "    imgs = [i for i in os.listdir(trn_path + cls) if os.path.isfile(os.path.join(trn_path + cls, i))]\n",
    "    \n",
    "    for img in imgs:\n",
    "        im = cv2.imread(os.path.join(trn_path, cls, img), cv2.COLOR_BGR2RGB)\n",
    "        im = cv2.resize(im, (224, 224))\n",
    "        trn_x.append(im)\n",
    "        trn_y.append(cls)"
   ]
  },
  {
   "cell_type": "code",
   "execution_count": 18,
   "metadata": {
    "collapsed": false
   },
   "outputs": [
    {
     "name": "stdout",
     "output_type": "stream",
     "text": [
      "(3, 224, 224)\n",
      "<class 'numpy.ndarray'>\n",
      "(3, 224, 224)\n",
      "<class 'numpy.ndarray'>\n"
     ]
    }
   ],
   "source": [
    "from keras.preprocessing.image import  img_to_array\n",
    "from PIL import Image\n",
    "\n",
    "for fol in classes:\n",
    "    imgfiles=os.listdir(path + fol);\n",
    "    \n",
    "    for img in imgfiles:\n",
    "        im = Image.open(path + fol + '/' + img)\n",
    "        im = im.convert(mode='RGB')\n",
    "        imrs = im.resize((224,224))\n",
    "        imrs = img_to_array(imrs)/255\n",
    "        imrs = imrs.transpose(2,0,1)\n",
    "        imrs = imrs.reshape(3, 224, 224)\n",
    "        print(imrs.shape)\n",
    "        print(type(imrs))\n",
    "        break\n",
    "#         imrs = imrs.transpose(2,0,1);\n",
    "#         imrs = imrs.reshape(3,m,n);\n",
    "#         x.append(imrs)\n",
    "#         y.append(fol)"
   ]
  },
  {
   "cell_type": "code",
   "execution_count": 6,
   "metadata": {
    "collapsed": false,
    "scrolled": true
   },
   "outputs": [],
   "source": [
    "trn_x = np.array(trn_x)\n",
    "trn_y = np.array(trn_y)"
   ]
  },
  {
   "cell_type": "code",
   "execution_count": 7,
   "metadata": {
    "collapsed": false
   },
   "outputs": [
    {
     "data": {
      "text/plain": [
       "((292, 224, 224, 3), (292,))"
      ]
     },
     "execution_count": 7,
     "metadata": {},
     "output_type": "execute_result"
    }
   ],
   "source": [
    "trn_x.shape, trn_y.shape"
   ]
  },
  {
   "cell_type": "code",
   "execution_count": 8,
   "metadata": {
    "collapsed": false
   },
   "outputs": [],
   "source": [
    "uniques, id_train = np.unique(trn_y, return_inverse=True)"
   ]
  },
  {
   "cell_type": "code",
   "execution_count": 9,
   "metadata": {
    "collapsed": true
   },
   "outputs": [
    {
     "data": {
      "text/plain": [
       "(array(['face', 'no_face'],\n",
       "       dtype='<U7'),\n",
       " array([0, 0, 0, 0, 0, 0, 0, 0, 0, 0, 0, 0, 0, 0, 0, 0, 0, 0, 0, 0, 0, 0, 0,\n",
       "        0, 0, 0, 0, 0, 0, 0, 0, 0, 0, 0, 0, 0, 0, 0, 0, 0, 0, 0, 0, 0, 0, 0,\n",
       "        0, 0, 0, 0, 0, 0, 0, 0, 0, 0, 0, 0, 0, 0, 0, 0, 0, 0, 0, 0, 0, 0, 0,\n",
       "        0, 0, 0, 0, 0, 0, 0, 0, 0, 0, 0, 0, 0, 0, 0, 0, 0, 0, 0, 0, 0, 0, 0,\n",
       "        0, 0, 0, 0, 0, 0, 0, 0, 0, 0, 0, 0, 0, 0, 0, 0, 0, 0, 0, 0, 0, 0, 0,\n",
       "        0, 0, 0, 0, 0, 0, 0, 0, 0, 0, 0, 0, 0, 0, 0, 0, 0, 0, 0, 0, 0, 0, 0,\n",
       "        0, 0, 0, 0, 0, 0, 0, 0, 0, 0, 0, 0, 0, 0, 0, 0, 0, 0, 0, 0, 0, 0, 0,\n",
       "        0, 0, 0, 0, 0, 0, 0, 0, 0, 0, 0, 0, 0, 0, 0, 0, 0, 0, 0, 0, 0, 0, 0,\n",
       "        0, 0, 0, 0, 0, 0, 0, 0, 0, 0, 0, 0, 0, 0, 0, 0, 0, 0, 0, 0, 0, 0, 0,\n",
       "        0, 0, 0, 0, 0, 0, 0, 0, 0, 0, 0, 0, 0, 0, 0, 0, 0, 0, 0, 0, 0, 0, 0,\n",
       "        0, 0, 0, 0, 0, 0, 0, 0, 0, 0, 0, 0, 0, 0, 0, 0, 0, 0, 0, 0, 0, 0, 0,\n",
       "        0, 0, 0, 0, 0, 0, 0, 0, 1, 1, 1, 1, 1, 1, 1, 1, 1, 1, 1, 1, 1, 1, 1,\n",
       "        1, 1, 1, 1, 1, 1, 1, 1, 1, 1, 1, 1, 1, 1, 1, 1]))"
      ]
     },
     "execution_count": 9,
     "metadata": {},
     "output_type": "execute_result"
    }
   ],
   "source": [
    "uniques, id_train"
   ]
  },
  {
   "cell_type": "code",
   "execution_count": 10,
   "metadata": {
    "collapsed": false
   },
   "outputs": [],
   "source": [
    "trn_y = np_utils.to_categorical(id_train, len(classes))"
   ]
  },
  {
   "cell_type": "code",
   "execution_count": 11,
   "metadata": {
    "collapsed": true
   },
   "outputs": [
    {
     "data": {
      "text/plain": [
       "array([[ 1.,  0.],\n",
       "       [ 1.,  0.],\n",
       "       [ 1.,  0.],\n",
       "       [ 1.,  0.],\n",
       "       [ 1.,  0.],\n",
       "       [ 1.,  0.],\n",
       "       [ 1.,  0.],\n",
       "       [ 1.,  0.],\n",
       "       [ 1.,  0.],\n",
       "       [ 1.,  0.],\n",
       "       [ 1.,  0.],\n",
       "       [ 1.,  0.],\n",
       "       [ 1.,  0.],\n",
       "       [ 1.,  0.],\n",
       "       [ 1.,  0.],\n",
       "       [ 1.,  0.],\n",
       "       [ 1.,  0.],\n",
       "       [ 1.,  0.],\n",
       "       [ 1.,  0.],\n",
       "       [ 1.,  0.],\n",
       "       [ 1.,  0.],\n",
       "       [ 1.,  0.],\n",
       "       [ 1.,  0.],\n",
       "       [ 1.,  0.],\n",
       "       [ 1.,  0.],\n",
       "       [ 1.,  0.],\n",
       "       [ 1.,  0.],\n",
       "       [ 1.,  0.],\n",
       "       [ 1.,  0.],\n",
       "       [ 1.,  0.],\n",
       "       [ 1.,  0.],\n",
       "       [ 1.,  0.],\n",
       "       [ 1.,  0.],\n",
       "       [ 1.,  0.],\n",
       "       [ 1.,  0.],\n",
       "       [ 1.,  0.],\n",
       "       [ 1.,  0.],\n",
       "       [ 1.,  0.],\n",
       "       [ 1.,  0.],\n",
       "       [ 1.,  0.],\n",
       "       [ 1.,  0.],\n",
       "       [ 1.,  0.],\n",
       "       [ 1.,  0.],\n",
       "       [ 1.,  0.],\n",
       "       [ 1.,  0.],\n",
       "       [ 1.,  0.],\n",
       "       [ 1.,  0.],\n",
       "       [ 1.,  0.],\n",
       "       [ 1.,  0.],\n",
       "       [ 1.,  0.],\n",
       "       [ 1.,  0.],\n",
       "       [ 1.,  0.],\n",
       "       [ 1.,  0.],\n",
       "       [ 1.,  0.],\n",
       "       [ 1.,  0.],\n",
       "       [ 1.,  0.],\n",
       "       [ 1.,  0.],\n",
       "       [ 1.,  0.],\n",
       "       [ 1.,  0.],\n",
       "       [ 1.,  0.],\n",
       "       [ 1.,  0.],\n",
       "       [ 1.,  0.],\n",
       "       [ 1.,  0.],\n",
       "       [ 1.,  0.],\n",
       "       [ 1.,  0.],\n",
       "       [ 1.,  0.],\n",
       "       [ 1.,  0.],\n",
       "       [ 1.,  0.],\n",
       "       [ 1.,  0.],\n",
       "       [ 1.,  0.],\n",
       "       [ 1.,  0.],\n",
       "       [ 1.,  0.],\n",
       "       [ 1.,  0.],\n",
       "       [ 1.,  0.],\n",
       "       [ 1.,  0.],\n",
       "       [ 1.,  0.],\n",
       "       [ 1.,  0.],\n",
       "       [ 1.,  0.],\n",
       "       [ 1.,  0.],\n",
       "       [ 1.,  0.],\n",
       "       [ 1.,  0.],\n",
       "       [ 1.,  0.],\n",
       "       [ 1.,  0.],\n",
       "       [ 1.,  0.],\n",
       "       [ 1.,  0.],\n",
       "       [ 1.,  0.],\n",
       "       [ 1.,  0.],\n",
       "       [ 1.,  0.],\n",
       "       [ 1.,  0.],\n",
       "       [ 1.,  0.],\n",
       "       [ 1.,  0.],\n",
       "       [ 1.,  0.],\n",
       "       [ 1.,  0.],\n",
       "       [ 1.,  0.],\n",
       "       [ 1.,  0.],\n",
       "       [ 1.,  0.],\n",
       "       [ 1.,  0.],\n",
       "       [ 1.,  0.],\n",
       "       [ 1.,  0.],\n",
       "       [ 1.,  0.],\n",
       "       [ 1.,  0.],\n",
       "       [ 1.,  0.],\n",
       "       [ 1.,  0.],\n",
       "       [ 1.,  0.],\n",
       "       [ 1.,  0.],\n",
       "       [ 1.,  0.],\n",
       "       [ 1.,  0.],\n",
       "       [ 1.,  0.],\n",
       "       [ 1.,  0.],\n",
       "       [ 1.,  0.],\n",
       "       [ 1.,  0.],\n",
       "       [ 1.,  0.],\n",
       "       [ 1.,  0.],\n",
       "       [ 1.,  0.],\n",
       "       [ 1.,  0.],\n",
       "       [ 1.,  0.],\n",
       "       [ 1.,  0.],\n",
       "       [ 1.,  0.],\n",
       "       [ 1.,  0.],\n",
       "       [ 1.,  0.],\n",
       "       [ 1.,  0.],\n",
       "       [ 1.,  0.],\n",
       "       [ 1.,  0.],\n",
       "       [ 1.,  0.],\n",
       "       [ 1.,  0.],\n",
       "       [ 1.,  0.],\n",
       "       [ 1.,  0.],\n",
       "       [ 1.,  0.],\n",
       "       [ 1.,  0.],\n",
       "       [ 1.,  0.],\n",
       "       [ 1.,  0.],\n",
       "       [ 1.,  0.],\n",
       "       [ 1.,  0.],\n",
       "       [ 1.,  0.],\n",
       "       [ 1.,  0.],\n",
       "       [ 1.,  0.],\n",
       "       [ 1.,  0.],\n",
       "       [ 1.,  0.],\n",
       "       [ 1.,  0.],\n",
       "       [ 1.,  0.],\n",
       "       [ 1.,  0.],\n",
       "       [ 1.,  0.],\n",
       "       [ 1.,  0.],\n",
       "       [ 1.,  0.],\n",
       "       [ 1.,  0.],\n",
       "       [ 1.,  0.],\n",
       "       [ 1.,  0.],\n",
       "       [ 1.,  0.],\n",
       "       [ 1.,  0.],\n",
       "       [ 1.,  0.],\n",
       "       [ 1.,  0.],\n",
       "       [ 1.,  0.],\n",
       "       [ 1.,  0.],\n",
       "       [ 1.,  0.],\n",
       "       [ 1.,  0.],\n",
       "       [ 1.,  0.],\n",
       "       [ 1.,  0.],\n",
       "       [ 1.,  0.],\n",
       "       [ 1.,  0.],\n",
       "       [ 1.,  0.],\n",
       "       [ 1.,  0.],\n",
       "       [ 1.,  0.],\n",
       "       [ 1.,  0.],\n",
       "       [ 1.,  0.],\n",
       "       [ 1.,  0.],\n",
       "       [ 1.,  0.],\n",
       "       [ 1.,  0.],\n",
       "       [ 1.,  0.],\n",
       "       [ 1.,  0.],\n",
       "       [ 1.,  0.],\n",
       "       [ 1.,  0.],\n",
       "       [ 1.,  0.],\n",
       "       [ 1.,  0.],\n",
       "       [ 1.,  0.],\n",
       "       [ 1.,  0.],\n",
       "       [ 1.,  0.],\n",
       "       [ 1.,  0.],\n",
       "       [ 1.,  0.],\n",
       "       [ 1.,  0.],\n",
       "       [ 1.,  0.],\n",
       "       [ 1.,  0.],\n",
       "       [ 1.,  0.],\n",
       "       [ 1.,  0.],\n",
       "       [ 1.,  0.],\n",
       "       [ 1.,  0.],\n",
       "       [ 1.,  0.],\n",
       "       [ 1.,  0.],\n",
       "       [ 1.,  0.],\n",
       "       [ 1.,  0.],\n",
       "       [ 1.,  0.],\n",
       "       [ 1.,  0.],\n",
       "       [ 1.,  0.],\n",
       "       [ 1.,  0.],\n",
       "       [ 1.,  0.],\n",
       "       [ 1.,  0.],\n",
       "       [ 1.,  0.],\n",
       "       [ 1.,  0.],\n",
       "       [ 1.,  0.],\n",
       "       [ 1.,  0.],\n",
       "       [ 1.,  0.],\n",
       "       [ 1.,  0.],\n",
       "       [ 1.,  0.],\n",
       "       [ 1.,  0.],\n",
       "       [ 1.,  0.],\n",
       "       [ 1.,  0.],\n",
       "       [ 1.,  0.],\n",
       "       [ 1.,  0.],\n",
       "       [ 1.,  0.],\n",
       "       [ 1.,  0.],\n",
       "       [ 1.,  0.],\n",
       "       [ 1.,  0.],\n",
       "       [ 1.,  0.],\n",
       "       [ 1.,  0.],\n",
       "       [ 1.,  0.],\n",
       "       [ 1.,  0.],\n",
       "       [ 1.,  0.],\n",
       "       [ 1.,  0.],\n",
       "       [ 1.,  0.],\n",
       "       [ 1.,  0.],\n",
       "       [ 1.,  0.],\n",
       "       [ 1.,  0.],\n",
       "       [ 1.,  0.],\n",
       "       [ 1.,  0.],\n",
       "       [ 1.,  0.],\n",
       "       [ 1.,  0.],\n",
       "       [ 1.,  0.],\n",
       "       [ 1.,  0.],\n",
       "       [ 1.,  0.],\n",
       "       [ 1.,  0.],\n",
       "       [ 1.,  0.],\n",
       "       [ 1.,  0.],\n",
       "       [ 1.,  0.],\n",
       "       [ 1.,  0.],\n",
       "       [ 1.,  0.],\n",
       "       [ 1.,  0.],\n",
       "       [ 1.,  0.],\n",
       "       [ 1.,  0.],\n",
       "       [ 1.,  0.],\n",
       "       [ 1.,  0.],\n",
       "       [ 1.,  0.],\n",
       "       [ 1.,  0.],\n",
       "       [ 1.,  0.],\n",
       "       [ 1.,  0.],\n",
       "       [ 1.,  0.],\n",
       "       [ 1.,  0.],\n",
       "       [ 1.,  0.],\n",
       "       [ 1.,  0.],\n",
       "       [ 1.,  0.],\n",
       "       [ 1.,  0.],\n",
       "       [ 1.,  0.],\n",
       "       [ 1.,  0.],\n",
       "       [ 1.,  0.],\n",
       "       [ 1.,  0.],\n",
       "       [ 1.,  0.],\n",
       "       [ 1.,  0.],\n",
       "       [ 1.,  0.],\n",
       "       [ 1.,  0.],\n",
       "       [ 1.,  0.],\n",
       "       [ 1.,  0.],\n",
       "       [ 1.,  0.],\n",
       "       [ 1.,  0.],\n",
       "       [ 0.,  1.],\n",
       "       [ 0.,  1.],\n",
       "       [ 0.,  1.],\n",
       "       [ 0.,  1.],\n",
       "       [ 0.,  1.],\n",
       "       [ 0.,  1.],\n",
       "       [ 0.,  1.],\n",
       "       [ 0.,  1.],\n",
       "       [ 0.,  1.],\n",
       "       [ 0.,  1.],\n",
       "       [ 0.,  1.],\n",
       "       [ 0.,  1.],\n",
       "       [ 0.,  1.],\n",
       "       [ 0.,  1.],\n",
       "       [ 0.,  1.],\n",
       "       [ 0.,  1.],\n",
       "       [ 0.,  1.],\n",
       "       [ 0.,  1.],\n",
       "       [ 0.,  1.],\n",
       "       [ 0.,  1.],\n",
       "       [ 0.,  1.],\n",
       "       [ 0.,  1.],\n",
       "       [ 0.,  1.],\n",
       "       [ 0.,  1.],\n",
       "       [ 0.,  1.],\n",
       "       [ 0.,  1.],\n",
       "       [ 0.,  1.],\n",
       "       [ 0.,  1.],\n",
       "       [ 0.,  1.],\n",
       "       [ 0.,  1.],\n",
       "       [ 0.,  1.]])"
      ]
     },
     "execution_count": 11,
     "metadata": {},
     "output_type": "execute_result"
    }
   ],
   "source": [
    "trn_y"
   ]
  },
  {
   "cell_type": "markdown",
   "metadata": {},
   "source": [
    "# For valid folder images"
   ]
  },
  {
   "cell_type": "code",
   "execution_count": 12,
   "metadata": {
    "collapsed": false
   },
   "outputs": [
    {
     "data": {
      "text/plain": [
       "['face', 'no_face']"
      ]
     },
     "execution_count": 12,
     "metadata": {},
     "output_type": "execute_result"
    }
   ],
   "source": [
    "classes = [i for i in os.listdir(val_path) if os.path.isdir(os.path.join(val_path, i))]\n",
    "classes"
   ]
  },
  {
   "cell_type": "code",
   "execution_count": 16,
   "metadata": {
    "collapsed": true
   },
   "outputs": [],
   "source": [
    "val_x = []\n",
    "val_y = []"
   ]
  },
  {
   "cell_type": "code",
   "execution_count": 17,
   "metadata": {
    "collapsed": false
   },
   "outputs": [],
   "source": [
    "for cls in classes:\n",
    "    imgs = [i for i in os.listdir(val_path + cls) if os.path.isfile(os.path.join(val_path + cls, i))]\n",
    "    \n",
    "    for img in imgs:\n",
    "        im = cv2.imread(os.path.join(val_path, cls, img), cv2.COLOR_BGR2RGB)\n",
    "        im = cv2.resize(im, (224, 224))\n",
    "        val_x.append(im)\n",
    "        val_y.append(cls)"
   ]
  },
  {
   "cell_type": "code",
   "execution_count": 18,
   "metadata": {
    "collapsed": false
   },
   "outputs": [],
   "source": [
    "val_x = np.array(val_x)\n",
    "val_y = np.array(val_y)"
   ]
  },
  {
   "cell_type": "code",
   "execution_count": 19,
   "metadata": {
    "collapsed": false
   },
   "outputs": [
    {
     "data": {
      "text/plain": [
       "((66, 224, 224, 3), (66,))"
      ]
     },
     "execution_count": 19,
     "metadata": {},
     "output_type": "execute_result"
    }
   ],
   "source": [
    "val_x.shape, val_y.shape"
   ]
  },
  {
   "cell_type": "code",
   "execution_count": 20,
   "metadata": {
    "collapsed": true
   },
   "outputs": [],
   "source": [
    "uniques, id_train = np.unique(val_y, return_inverse=True)"
   ]
  },
  {
   "cell_type": "code",
   "execution_count": 21,
   "metadata": {
    "collapsed": true
   },
   "outputs": [
    {
     "data": {
      "text/plain": [
       "(array(['face', 'no_face'],\n",
       "       dtype='<U7'),\n",
       " array([0, 0, 0, 0, 0, 0, 0, 0, 0, 0, 0, 0, 0, 0, 0, 0, 0, 0, 0, 0, 0, 0, 0,\n",
       "        0, 0, 0, 0, 0, 0, 0, 0, 0, 0, 0, 0, 0, 0, 0, 0, 0, 0, 0, 0, 0, 0, 0,\n",
       "        0, 0, 0, 0, 0, 0, 0, 0, 0, 0, 0, 0, 0, 1, 1, 1, 1, 1, 1, 1]))"
      ]
     },
     "execution_count": 21,
     "metadata": {},
     "output_type": "execute_result"
    }
   ],
   "source": [
    "uniques, id_train"
   ]
  },
  {
   "cell_type": "code",
   "execution_count": 22,
   "metadata": {
    "collapsed": true
   },
   "outputs": [],
   "source": [
    "val_y = np_utils.to_categorical(id_train, len(classes))"
   ]
  },
  {
   "cell_type": "code",
   "execution_count": 23,
   "metadata": {
    "collapsed": true
   },
   "outputs": [
    {
     "data": {
      "text/plain": [
       "array([[ 1.,  0.],\n",
       "       [ 1.,  0.],\n",
       "       [ 1.,  0.],\n",
       "       [ 1.,  0.],\n",
       "       [ 1.,  0.],\n",
       "       [ 1.,  0.],\n",
       "       [ 1.,  0.],\n",
       "       [ 1.,  0.],\n",
       "       [ 1.,  0.],\n",
       "       [ 1.,  0.],\n",
       "       [ 1.,  0.],\n",
       "       [ 1.,  0.],\n",
       "       [ 1.,  0.],\n",
       "       [ 1.,  0.],\n",
       "       [ 1.,  0.],\n",
       "       [ 1.,  0.],\n",
       "       [ 1.,  0.],\n",
       "       [ 1.,  0.],\n",
       "       [ 1.,  0.],\n",
       "       [ 1.,  0.],\n",
       "       [ 1.,  0.],\n",
       "       [ 1.,  0.],\n",
       "       [ 1.,  0.],\n",
       "       [ 1.,  0.],\n",
       "       [ 1.,  0.],\n",
       "       [ 1.,  0.],\n",
       "       [ 1.,  0.],\n",
       "       [ 1.,  0.],\n",
       "       [ 1.,  0.],\n",
       "       [ 1.,  0.],\n",
       "       [ 1.,  0.],\n",
       "       [ 1.,  0.],\n",
       "       [ 1.,  0.],\n",
       "       [ 1.,  0.],\n",
       "       [ 1.,  0.],\n",
       "       [ 1.,  0.],\n",
       "       [ 1.,  0.],\n",
       "       [ 1.,  0.],\n",
       "       [ 1.,  0.],\n",
       "       [ 1.,  0.],\n",
       "       [ 1.,  0.],\n",
       "       [ 1.,  0.],\n",
       "       [ 1.,  0.],\n",
       "       [ 1.,  0.],\n",
       "       [ 1.,  0.],\n",
       "       [ 1.,  0.],\n",
       "       [ 1.,  0.],\n",
       "       [ 1.,  0.],\n",
       "       [ 1.,  0.],\n",
       "       [ 1.,  0.],\n",
       "       [ 1.,  0.],\n",
       "       [ 1.,  0.],\n",
       "       [ 1.,  0.],\n",
       "       [ 1.,  0.],\n",
       "       [ 1.,  0.],\n",
       "       [ 1.,  0.],\n",
       "       [ 1.,  0.],\n",
       "       [ 1.,  0.],\n",
       "       [ 1.,  0.],\n",
       "       [ 0.,  1.],\n",
       "       [ 0.,  1.],\n",
       "       [ 0.,  1.],\n",
       "       [ 0.,  1.],\n",
       "       [ 0.,  1.],\n",
       "       [ 0.,  1.],\n",
       "       [ 0.,  1.]])"
      ]
     },
     "execution_count": 23,
     "metadata": {},
     "output_type": "execute_result"
    }
   ],
   "source": [
    "val_y"
   ]
  },
  {
   "cell_type": "markdown",
   "metadata": {},
   "source": [
    "# vgg finetune"
   ]
  },
  {
   "cell_type": "code",
   "execution_count": 24,
   "metadata": {
    "collapsed": true
   },
   "outputs": [],
   "source": [
    "from vgg16 import Vgg16\n",
    "vgg = Vgg16()"
   ]
  },
  {
   "cell_type": "code",
   "execution_count": 25,
   "metadata": {
    "collapsed": true
   },
   "outputs": [],
   "source": [
    "vgg.model.pop()"
   ]
  },
  {
   "cell_type": "code",
   "execution_count": 26,
   "metadata": {
    "collapsed": true
   },
   "outputs": [],
   "source": [
    "for layer in vgg.model.layers: layer.trainable=False"
   ]
  },
  {
   "cell_type": "code",
   "execution_count": 27,
   "metadata": {
    "collapsed": true
   },
   "outputs": [],
   "source": [
    "vgg.model.add(Dense(len(classes), activation='softmax'))"
   ]
  },
  {
   "cell_type": "code",
   "execution_count": 28,
   "metadata": {
    "collapsed": true
   },
   "outputs": [
    {
     "name": "stdout",
     "output_type": "stream",
     "text": [
      "_________________________________________________________________\n",
      "Layer (type)                 Output Shape              Param #   \n",
      "=================================================================\n",
      "lambda_1 (Lambda)            (None, 224, 224, 3)       0         \n",
      "_________________________________________________________________\n",
      "conv2d_1 (Conv2D)            (None, 224, 224, 64)      1792      \n",
      "_________________________________________________________________\n",
      "conv2d_2 (Conv2D)            (None, 224, 224, 64)      36928     \n",
      "_________________________________________________________________\n",
      "max_pooling2d_1 (MaxPooling2 (None, 112, 112, 64)      0         \n",
      "_________________________________________________________________\n",
      "conv2d_3 (Conv2D)            (None, 112, 112, 128)     73856     \n",
      "_________________________________________________________________\n",
      "conv2d_4 (Conv2D)            (None, 112, 112, 128)     147584    \n",
      "_________________________________________________________________\n",
      "max_pooling2d_2 (MaxPooling2 (None, 56, 56, 128)       0         \n",
      "_________________________________________________________________\n",
      "conv2d_5 (Conv2D)            (None, 56, 56, 256)       295168    \n",
      "_________________________________________________________________\n",
      "conv2d_6 (Conv2D)            (None, 56, 56, 256)       590080    \n",
      "_________________________________________________________________\n",
      "conv2d_7 (Conv2D)            (None, 56, 56, 256)       590080    \n",
      "_________________________________________________________________\n",
      "max_pooling2d_3 (MaxPooling2 (None, 28, 28, 256)       0         \n",
      "_________________________________________________________________\n",
      "conv2d_8 (Conv2D)            (None, 28, 28, 512)       1180160   \n",
      "_________________________________________________________________\n",
      "conv2d_9 (Conv2D)            (None, 28, 28, 512)       2359808   \n",
      "_________________________________________________________________\n",
      "conv2d_10 (Conv2D)           (None, 28, 28, 512)       2359808   \n",
      "_________________________________________________________________\n",
      "max_pooling2d_4 (MaxPooling2 (None, 14, 14, 512)       0         \n",
      "_________________________________________________________________\n",
      "conv2d_11 (Conv2D)           (None, 14, 14, 512)       2359808   \n",
      "_________________________________________________________________\n",
      "conv2d_12 (Conv2D)           (None, 14, 14, 512)       2359808   \n",
      "_________________________________________________________________\n",
      "conv2d_13 (Conv2D)           (None, 14, 14, 512)       2359808   \n",
      "_________________________________________________________________\n",
      "max_pooling2d_5 (MaxPooling2 (None, 7, 7, 512)         0         \n",
      "_________________________________________________________________\n",
      "flatten_1 (Flatten)          (None, 25088)             0         \n",
      "_________________________________________________________________\n",
      "dense_1 (Dense)              (None, 4096)              102764544 \n",
      "_________________________________________________________________\n",
      "dropout_1 (Dropout)          (None, 4096)              0         \n",
      "_________________________________________________________________\n",
      "dense_2 (Dense)              (None, 4096)              16781312  \n",
      "_________________________________________________________________\n",
      "dropout_2 (Dropout)          (None, 4096)              0         \n",
      "_________________________________________________________________\n",
      "dense_4 (Dense)              (None, 2)                 8194      \n",
      "=================================================================\n",
      "Total params: 134,268,738\n",
      "Trainable params: 8,194\n",
      "Non-trainable params: 134,260,544\n",
      "_________________________________________________________________\n"
     ]
    }
   ],
   "source": [
    "vgg.model.summary()"
   ]
  },
  {
   "cell_type": "code",
   "execution_count": 29,
   "metadata": {
    "collapsed": true
   },
   "outputs": [],
   "source": [
    "vgg.compile()"
   ]
  },
  {
   "cell_type": "code",
   "execution_count": 30,
   "metadata": {
    "collapsed": false
   },
   "outputs": [
    {
     "name": "stdout",
     "output_type": "stream",
     "text": [
      "Train on 292 samples, validate on 66 samples\n",
      "Epoch 1/1\n",
      "292/292 [==============================] - 12s 39ms/step - loss: 0.1294 - acc: 0.9726 - val_loss: 0.0428 - val_acc: 0.9848\n"
     ]
    },
    {
     "data": {
      "text/plain": [
       "<keras.callbacks.History at 0x7f628020da58>"
      ]
     },
     "execution_count": 30,
     "metadata": {},
     "output_type": "execute_result"
    }
   ],
   "source": [
    "vgg.model.fit(trn_x, trn_y, batch_size = 4, epochs=1, validation_data = (val_x, val_y))"
   ]
  },
  {
   "cell_type": "markdown",
   "metadata": {},
   "source": [
    "# Test image"
   ]
  },
  {
   "cell_type": "code",
   "execution_count": 31,
   "metadata": {
    "collapsed": true
   },
   "outputs": [],
   "source": [
    "im = cv2.imread('2002_09_06_img_11131.jpg', cv2.COLOR_BGR2RGB)\n",
    "im = cv2.resize(im, (224, 224))\n",
    "im = np.expand_dims(im, axis=0)"
   ]
  },
  {
   "cell_type": "code",
   "execution_count": 32,
   "metadata": {
    "collapsed": false
   },
   "outputs": [
    {
     "data": {
      "text/plain": [
       "(1, 224, 224, 3)"
      ]
     },
     "execution_count": 32,
     "metadata": {},
     "output_type": "execute_result"
    }
   ],
   "source": [
    "im.shape"
   ]
  },
  {
   "cell_type": "code",
   "execution_count": 33,
   "metadata": {
    "collapsed": false
   },
   "outputs": [],
   "source": [
    "result = vgg.model.predict(im)"
   ]
  },
  {
   "cell_type": "code",
   "execution_count": 34,
   "metadata": {
    "collapsed": false
   },
   "outputs": [
    {
     "data": {
      "text/plain": [
       "'face'"
      ]
     },
     "execution_count": 34,
     "metadata": {},
     "output_type": "execute_result"
    }
   ],
   "source": [
    "classes[np.argmax(result)]"
   ]
  },
  {
   "cell_type": "code",
   "execution_count": 35,
   "metadata": {
    "collapsed": false
   },
   "outputs": [
    {
     "data": {
      "text/plain": [
       "array([[  9.99995351e-01,   4.65483527e-06]], dtype=float32)"
      ]
     },
     "execution_count": 35,
     "metadata": {},
     "output_type": "execute_result"
    }
   ],
   "source": [
    "result"
   ]
  },
  {
   "cell_type": "code",
   "execution_count": 36,
   "metadata": {
    "collapsed": false
   },
   "outputs": [
    {
     "data": {
      "text/plain": [
       "0"
      ]
     },
     "execution_count": 36,
     "metadata": {},
     "output_type": "execute_result"
    }
   ],
   "source": [
    "np.argmax(result)"
   ]
  },
  {
   "cell_type": "markdown",
   "metadata": {
    "collapsed": true
   },
   "source": [
    "# Multiple input "
   ]
  },
  {
   "cell_type": "code",
   "execution_count": 37,
   "metadata": {
    "collapsed": true
   },
   "outputs": [],
   "source": [
    "path = 'data/sample/'"
   ]
  },
  {
   "cell_type": "markdown",
   "metadata": {},
   "source": [
    "## train images resize bounding box"
   ]
  },
  {
   "cell_type": "code",
   "execution_count": 79,
   "metadata": {
    "collapsed": true
   },
   "outputs": [],
   "source": [
    "train_xml_files = [os.path.join(path + 'train_xml/', i) for i in os.listdir(path + 'train_xml/') \n",
    "                   if os.path.isfile(os.path.join(path + 'train_xml/', i))]"
   ]
  },
  {
   "cell_type": "code",
   "execution_count": 80,
   "metadata": {
    "collapsed": true
   },
   "outputs": [],
   "source": [
    "orig_trn_bb_box = []"
   ]
  },
  {
   "cell_type": "code",
   "execution_count": 81,
   "metadata": {
    "collapsed": false
   },
   "outputs": [],
   "source": [
    "for file in train_xml_files:\n",
    "    xmldoc = minidom.parse(file)\n",
    "    \n",
    "    annotation = xmldoc.getElementsByTagName('annotation')[0]\n",
    "    \n",
    "    filename = annotation.getElementsByTagName('filename')[0]\n",
    "    filename = filename.firstChild.data\n",
    "    \n",
    "    file_sizes = annotation.getElementsByTagName('size')[0]\n",
    "    width = file_sizes.getElementsByTagName('width')[0]\n",
    "    width = int(width.firstChild.data)\n",
    "    height = file_sizes.getElementsByTagName('height')[0]\n",
    "    height = int(height.firstChild.data)\n",
    "    \n",
    "    obj = annotation.getElementsByTagName('object')[0]\n",
    "    bndbox = obj.getElementsByTagName('bndbox')[0]\n",
    "\n",
    "    xmin = bndbox.getElementsByTagName('xmin')[0]\n",
    "    xmin = int(xmin.firstChild.data)\n",
    "\n",
    "    ymin = bndbox.getElementsByTagName('ymin')[0]\n",
    "    ymin = int(ymin.firstChild.data)\n",
    "\n",
    "    xmax = bndbox.getElementsByTagName('xmax')[0]\n",
    "    xmax = int(xmax.firstChild.data)\n",
    "\n",
    "    ymax = bndbox.getElementsByTagName('ymax')[0]\n",
    "    ymax = int(ymax.firstChild.data)\n",
    "    \n",
    "    orig_trn_bb_box.append([width, height, xmin, ymin, xmax, ymax])"
   ]
  },
  {
   "cell_type": "code",
   "execution_count": 84,
   "metadata": {
    "collapsed": false
   },
   "outputs": [],
   "source": [
    "orig_trn_bb_box = np.array(orig_trn_bb_box)"
   ]
  },
  {
   "cell_type": "code",
   "execution_count": 85,
   "metadata": {
    "collapsed": false
   },
   "outputs": [
    {
     "data": {
      "text/plain": [
       "((261, 6), array([[293, 450,  71,  52, 218, 230]]))"
      ]
     },
     "execution_count": 85,
     "metadata": {},
     "output_type": "execute_result"
    }
   ],
   "source": [
    "orig_trn_bb_box.shape, orig_trn_bb_box[0:1]"
   ]
  },
  {
   "cell_type": "code",
   "execution_count": 86,
   "metadata": {
    "collapsed": true
   },
   "outputs": [],
   "source": [
    "resized_trn_bb_box = []"
   ]
  },
  {
   "cell_type": "code",
   "execution_count": 87,
   "metadata": {
    "collapsed": true
   },
   "outputs": [],
   "source": [
    "for i in orig_trn_bb_box:\n",
    "    conv_width = 224. / i[0]\n",
    "    conv_height = 224. / i[1]\n",
    "\n",
    "    new_xmin = int(xmin * conv_width)\n",
    "    new_ymin = int(ymin * conv_height)\n",
    "    new_xmax = int(xmax * conv_width)\n",
    "    new_ymax = int(ymax * conv_height)\n",
    "\n",
    "    resized_trn_bb_box.append([new_xmin, new_ymin, new_xmax, new_ymax])"
   ]
  },
  {
   "cell_type": "markdown",
   "metadata": {},
   "source": [
    "### Below for no bounding box for no_face class"
   ]
  },
  {
   "cell_type": "code",
   "execution_count": 88,
   "metadata": {
    "collapsed": true
   },
   "outputs": [],
   "source": [
    "for i in range(31):\n",
    "    resized_trn_bb_box.append([0, 0, 0, 0])"
   ]
  },
  {
   "cell_type": "code",
   "execution_count": 89,
   "metadata": {
    "collapsed": true
   },
   "outputs": [],
   "source": [
    "resized_trn_bb_box = np.array(resized_trn_bb_box)"
   ]
  },
  {
   "cell_type": "code",
   "execution_count": 90,
   "metadata": {
    "collapsed": false,
    "scrolled": true
   },
   "outputs": [
    {
     "data": {
      "text/plain": [
       "((292, 4), array([[ 51,   3, 128,  77]]))"
      ]
     },
     "execution_count": 90,
     "metadata": {},
     "output_type": "execute_result"
    }
   ],
   "source": [
    "resized_trn_bb_box.shape, resized_trn_bb_box[:1]"
   ]
  },
  {
   "cell_type": "code",
   "execution_count": 92,
   "metadata": {
    "collapsed": false
   },
   "outputs": [
    {
     "data": {
      "text/plain": [
       "((292, 4), array([[0, 0, 0, 0]]))"
      ]
     },
     "execution_count": 92,
     "metadata": {},
     "output_type": "execute_result"
    }
   ],
   "source": [
    "resized_trn_bb_box.shape, resized_trn_bb_box[-1:]"
   ]
  },
  {
   "cell_type": "markdown",
   "metadata": {},
   "source": [
    "## valid images resize bounding box"
   ]
  },
  {
   "cell_type": "code",
   "execution_count": 93,
   "metadata": {
    "collapsed": true
   },
   "outputs": [],
   "source": [
    "valid_xml_files = [os.path.join(path + 'valid_xml/', i) for i in os.listdir(path + 'valid_xml/') \n",
    "                   if os.path.isfile(os.path.join(path + 'valid_xml/', i))]"
   ]
  },
  {
   "cell_type": "code",
   "execution_count": 94,
   "metadata": {
    "collapsed": true
   },
   "outputs": [],
   "source": [
    "orig_val_bb_box = []"
   ]
  },
  {
   "cell_type": "code",
   "execution_count": 95,
   "metadata": {
    "collapsed": false
   },
   "outputs": [],
   "source": [
    "for file in valid_xml_files:\n",
    "    xmldoc = minidom.parse(file)\n",
    "    \n",
    "    annotation = xmldoc.getElementsByTagName('annotation')[0]\n",
    "    \n",
    "    filename = annotation.getElementsByTagName('filename')[0]\n",
    "    filename = filename.firstChild.data\n",
    "    \n",
    "    file_sizes = annotation.getElementsByTagName('size')[0]\n",
    "    width = file_sizes.getElementsByTagName('width')[0]\n",
    "    width = int(width.firstChild.data)\n",
    "    height = file_sizes.getElementsByTagName('height')[0]\n",
    "    height = int(height.firstChild.data)\n",
    "    \n",
    "    obj = annotation.getElementsByTagName('object')[0]\n",
    "    bndbox = obj.getElementsByTagName('bndbox')[0]\n",
    "\n",
    "    xmin = bndbox.getElementsByTagName('xmin')[0]\n",
    "    xmin = int(xmin.firstChild.data)\n",
    "\n",
    "    ymin = bndbox.getElementsByTagName('ymin')[0]\n",
    "    ymin = int(ymin.firstChild.data)\n",
    "\n",
    "    xmax = bndbox.getElementsByTagName('xmax')[0]\n",
    "    xmax = int(xmax.firstChild.data)\n",
    "\n",
    "    ymax = bndbox.getElementsByTagName('ymax')[0]\n",
    "    ymax = int(ymax.firstChild.data)\n",
    "    \n",
    "    orig_val_bb_box.append([width, height, xmin, ymin, xmax, ymax])"
   ]
  },
  {
   "cell_type": "code",
   "execution_count": 96,
   "metadata": {
    "collapsed": true
   },
   "outputs": [],
   "source": [
    "orig_val_bb_box = np.array(orig_val_bb_box)"
   ]
  },
  {
   "cell_type": "code",
   "execution_count": 97,
   "metadata": {
    "collapsed": false
   },
   "outputs": [
    {
     "data": {
      "text/plain": [
       "((59, 6), array([[329, 450, 113,   3, 212, 160]]))"
      ]
     },
     "execution_count": 97,
     "metadata": {},
     "output_type": "execute_result"
    }
   ],
   "source": [
    "orig_val_bb_box.shape, orig_val_bb_box[0:1]"
   ]
  },
  {
   "cell_type": "code",
   "execution_count": 98,
   "metadata": {
    "collapsed": true
   },
   "outputs": [],
   "source": [
    "resized_val_bb_box = []"
   ]
  },
  {
   "cell_type": "code",
   "execution_count": 99,
   "metadata": {
    "collapsed": true
   },
   "outputs": [],
   "source": [
    "for i in orig_val_bb_box:\n",
    "    conv_width = 224. / i[0]\n",
    "    conv_height = 224. / i[1]\n",
    "\n",
    "    new_xmin = int(xmin * conv_width)\n",
    "    new_ymin = int(ymin * conv_height)\n",
    "    new_xmax = int(xmax * conv_width)\n",
    "    new_ymax = int(ymax * conv_height)\n",
    "\n",
    "    resized_val_bb_box.append([new_xmin, new_ymin, new_xmax, new_ymax])"
   ]
  },
  {
   "cell_type": "code",
   "execution_count": 100,
   "metadata": {
    "collapsed": true
   },
   "outputs": [],
   "source": [
    "for i in range(7):\n",
    "    resized_val_bb_box.append([0, 0, 0, 0])"
   ]
  },
  {
   "cell_type": "code",
   "execution_count": 101,
   "metadata": {
    "collapsed": true
   },
   "outputs": [],
   "source": [
    "resized_val_bb_box = np.array(resized_val_bb_box)"
   ]
  },
  {
   "cell_type": "code",
   "execution_count": 102,
   "metadata": {
    "collapsed": false
   },
   "outputs": [
    {
     "data": {
      "text/plain": [
       "((66, 4), array([[ 35,   6, 192, 144]]))"
      ]
     },
     "execution_count": 102,
     "metadata": {},
     "output_type": "execute_result"
    }
   ],
   "source": [
    "resized_val_bb_box.shape, resized_val_bb_box[:1]"
   ]
  },
  {
   "cell_type": "code",
   "execution_count": 103,
   "metadata": {
    "collapsed": false
   },
   "outputs": [
    {
     "data": {
      "text/plain": [
       "array([[0, 0, 0, 0]])"
      ]
     },
     "execution_count": 103,
     "metadata": {},
     "output_type": "execute_result"
    }
   ],
   "source": [
    "resized_val_bb_box[-1:]"
   ]
  },
  {
   "cell_type": "markdown",
   "metadata": {},
   "source": [
    "## Split vgg into conv & dense layer"
   ]
  },
  {
   "cell_type": "code",
   "execution_count": 75,
   "metadata": {
    "collapsed": false
   },
   "outputs": [],
   "source": [
    "vgg.model.save_weights(path + 'results/ft1.h5')"
   ]
  },
  {
   "cell_type": "code",
   "execution_count": 65,
   "metadata": {
    "collapsed": true
   },
   "outputs": [],
   "source": [
    "def split_at(model, layer_type):\n",
    "    layers = model.layers\n",
    "    layer_idx = [index for index,layer in enumerate(layers)\n",
    "                 if type(layer) is layer_type][-1]\n",
    "    return layers[:layer_idx+1], layers[layer_idx+1:]"
   ]
  },
  {
   "cell_type": "code",
   "execution_count": 66,
   "metadata": {
    "collapsed": true
   },
   "outputs": [],
   "source": [
    "conv_layers, fc_layers = split_at(vgg.model, Conv2D)"
   ]
  },
  {
   "cell_type": "code",
   "execution_count": 69,
   "metadata": {
    "collapsed": true
   },
   "outputs": [],
   "source": [
    "conv_model = Sequential(conv_layers)"
   ]
  },
  {
   "cell_type": "code",
   "execution_count": 70,
   "metadata": {
    "collapsed": true
   },
   "outputs": [
    {
     "name": "stdout",
     "output_type": "stream",
     "text": [
      "_________________________________________________________________\n",
      "Layer (type)                 Output Shape              Param #   \n",
      "=================================================================\n",
      "lambda_1 (Lambda)            (None, 224, 224, 3)       0         \n",
      "_________________________________________________________________\n",
      "conv2d_1 (Conv2D)            (None, 224, 224, 64)      1792      \n",
      "_________________________________________________________________\n",
      "conv2d_2 (Conv2D)            (None, 224, 224, 64)      36928     \n",
      "_________________________________________________________________\n",
      "max_pooling2d_1 (MaxPooling2 (None, 112, 112, 64)      0         \n",
      "_________________________________________________________________\n",
      "conv2d_3 (Conv2D)            (None, 112, 112, 128)     73856     \n",
      "_________________________________________________________________\n",
      "conv2d_4 (Conv2D)            (None, 112, 112, 128)     147584    \n",
      "_________________________________________________________________\n",
      "max_pooling2d_2 (MaxPooling2 (None, 56, 56, 128)       0         \n",
      "_________________________________________________________________\n",
      "conv2d_5 (Conv2D)            (None, 56, 56, 256)       295168    \n",
      "_________________________________________________________________\n",
      "conv2d_6 (Conv2D)            (None, 56, 56, 256)       590080    \n",
      "_________________________________________________________________\n",
      "conv2d_7 (Conv2D)            (None, 56, 56, 256)       590080    \n",
      "_________________________________________________________________\n",
      "max_pooling2d_3 (MaxPooling2 (None, 28, 28, 256)       0         \n",
      "_________________________________________________________________\n",
      "conv2d_8 (Conv2D)            (None, 28, 28, 512)       1180160   \n",
      "_________________________________________________________________\n",
      "conv2d_9 (Conv2D)            (None, 28, 28, 512)       2359808   \n",
      "_________________________________________________________________\n",
      "conv2d_10 (Conv2D)           (None, 28, 28, 512)       2359808   \n",
      "_________________________________________________________________\n",
      "max_pooling2d_4 (MaxPooling2 (None, 14, 14, 512)       0         \n",
      "_________________________________________________________________\n",
      "conv2d_11 (Conv2D)           (None, 14, 14, 512)       2359808   \n",
      "_________________________________________________________________\n",
      "conv2d_12 (Conv2D)           (None, 14, 14, 512)       2359808   \n",
      "_________________________________________________________________\n",
      "conv2d_13 (Conv2D)           (None, 14, 14, 512)       2359808   \n",
      "=================================================================\n",
      "Total params: 14,714,688\n",
      "Trainable params: 0\n",
      "Non-trainable params: 14,714,688\n",
      "_________________________________________________________________\n"
     ]
    }
   ],
   "source": [
    "conv_model.summary()"
   ]
  },
  {
   "cell_type": "code",
   "execution_count": 71,
   "metadata": {
    "collapsed": true
   },
   "outputs": [],
   "source": [
    "conv_feat = conv_model.predict(trn_x)\n",
    "conv_val_feat = conv_model.predict(val_x)"
   ]
  },
  {
   "cell_type": "code",
   "execution_count": 72,
   "metadata": {
    "collapsed": true
   },
   "outputs": [],
   "source": [
    "def save_array(fname, arr):\n",
    "    c=bcolz.carray(arr, rootdir=fname, mode='w')\n",
    "    c.flush()\n",
    "\n",
    "\n",
    "def load_array(fname):\n",
    "    return bcolz.open(fname)[:]"
   ]
  },
  {
   "cell_type": "code",
   "execution_count": 73,
   "metadata": {
    "collapsed": true
   },
   "outputs": [],
   "source": [
    "save_array(path+'results/conv_val_feat.dat', conv_val_feat)\n",
    "save_array(path+'results/conv_feat.dat', conv_feat)"
   ]
  },
  {
   "cell_type": "code",
   "execution_count": 76,
   "metadata": {
    "collapsed": true
   },
   "outputs": [],
   "source": [
    "conv_feat = load_array(path+'results/conv_feat.dat')\n",
    "conv_val_feat = load_array(path+'results/conv_val_feat.dat')"
   ]
  },
  {
   "cell_type": "code",
   "execution_count": 77,
   "metadata": {
    "collapsed": false
   },
   "outputs": [
    {
     "data": {
      "text/plain": [
       "((292, 14, 14, 512), (66, 14, 14, 512))"
      ]
     },
     "execution_count": 77,
     "metadata": {},
     "output_type": "execute_result"
    }
   ],
   "source": [
    "conv_feat.shape, conv_val_feat.shape"
   ]
  },
  {
   "cell_type": "markdown",
   "metadata": {},
   "source": [
    "## New Dense layers"
   ]
  },
  {
   "cell_type": "code",
   "execution_count": 78,
   "metadata": {
    "collapsed": true
   },
   "outputs": [],
   "source": [
    "p = 0.6"
   ]
  },
  {
   "cell_type": "code",
   "execution_count": 106,
   "metadata": {
    "collapsed": false
   },
   "outputs": [],
   "source": [
    "inp = Input(conv_layers[-1].output_shape[1:])\n",
    "x = MaxPooling2D()(inp)\n",
    "x = Dropout(p/4)(x)\n",
    "x = Flatten()(x)\n",
    "x = Dense(512, activation='relu')(x)\n",
    "x = Dropout(p)(x)\n",
    "x = Dense(512, activation='relu')(x)\n",
    "x = Dropout(p/2)(x)\n",
    "x_bb = Dense(4, name='bb')(x)\n",
    "x_class = Dense(2, activation='softmax', name='class')(x)"
   ]
  },
  {
   "cell_type": "code",
   "execution_count": 107,
   "metadata": {
    "collapsed": true
   },
   "outputs": [],
   "source": [
    "model = Model([inp], [x_bb, x_class])\n",
    "model.compile(Adam(lr=0.001), loss=['mse', 'categorical_crossentropy'], metrics=['accuracy'],\n",
    "             loss_weights=[.001, 1.])"
   ]
  },
  {
   "cell_type": "code",
   "execution_count": 108,
   "metadata": {
    "collapsed": true
   },
   "outputs": [
    {
     "name": "stdout",
     "output_type": "stream",
     "text": [
      "Train on 292 samples, validate on 66 samples\n",
      "Epoch 1/3\n",
      "292/292 [==============================] - 1s 3ms/step - loss: 5.5390 - bb_loss: 3195.0851 - class_loss: 2.3439 - bb_acc: 0.4110 - class_acc: 0.8322 - val_loss: 5.6399 - val_bb_loss: 3930.4204 - val_class_loss: 1.7095 - val_bb_acc: 0.3485 - val_class_acc: 0.8939\n",
      "Epoch 2/3\n",
      "292/292 [==============================] - 0s 1ms/step - loss: 3.7554 - bb_loss: 2044.7252 - class_loss: 1.7106 - bb_acc: 0.5651 - class_acc: 0.8938 - val_loss: 8.7058 - val_bb_loss: 6996.3343 - val_class_loss: 1.7095 - val_bb_acc: 0.4394 - val_class_acc: 0.8939\n",
      "Epoch 3/3\n",
      "292/292 [==============================] - 0s 946us/step - loss: 3.2539 - bb_loss: 1581.0592 - class_loss: 1.6728 - bb_acc: 0.5479 - class_acc: 0.8938 - val_loss: 7.1698 - val_bb_loss: 5460.3250 - val_class_loss: 1.7095 - val_bb_acc: 0.5455 - val_class_acc: 0.8939\n"
     ]
    },
    {
     "data": {
      "text/plain": [
       "<keras.callbacks.History at 0x7f6280702710>"
      ]
     },
     "execution_count": 108,
     "metadata": {},
     "output_type": "execute_result"
    }
   ],
   "source": [
    "model.fit(conv_feat, [resized_trn_bb_box, trn_y], batch_size = 44, epochs=3, \n",
    "             validation_data=(conv_val_feat, [resized_val_bb_box, val_y]))"
   ]
  },
  {
   "cell_type": "code",
   "execution_count": 109,
   "metadata": {
    "collapsed": true
   },
   "outputs": [],
   "source": [
    "model.optimizer.lr = 1e-5"
   ]
  },
  {
   "cell_type": "code",
   "execution_count": 110,
   "metadata": {
    "collapsed": true
   },
   "outputs": [
    {
     "name": "stdout",
     "output_type": "stream",
     "text": [
      "Train on 292 samples, validate on 66 samples\n",
      "Epoch 1/10\n",
      "292/292 [==============================] - 0s 977us/step - loss: 2.7895 - bb_loss: 1427.3466 - class_loss: 1.3621 - bb_acc: 0.5582 - class_acc: 0.9041 - val_loss: 8.1862 - val_bb_loss: 7799.8809 - val_class_loss: 0.3863 - val_bb_acc: 0.5758 - val_class_acc: 0.9394\n",
      "Epoch 2/10\n",
      "292/292 [==============================] - 0s 1ms/step - loss: 2.0864 - bb_loss: 1344.2382 - class_loss: 0.7421 - bb_acc: 0.5445 - class_acc: 0.9349 - val_loss: 6.6100 - val_bb_loss: 6391.0983 - val_class_loss: 0.2189 - val_bb_acc: 0.5152 - val_class_acc: 0.9848\n",
      "Epoch 3/10\n",
      "292/292 [==============================] - 0s 977us/step - loss: 1.5054 - bb_loss: 1263.9016 - class_loss: 0.2415 - bb_acc: 0.5890 - class_acc: 0.9795 - val_loss: 7.5900 - val_bb_loss: 7429.4479 - val_class_loss: 0.1605 - val_bb_acc: 0.5152 - val_class_acc: 0.9848\n",
      "Epoch 4/10\n",
      "292/292 [==============================] - 0s 966us/step - loss: 1.5785 - bb_loss: 1248.3643 - class_loss: 0.3302 - bb_acc: 0.5103 - class_acc: 0.9726 - val_loss: 7.2090 - val_bb_loss: 7097.9790 - val_class_loss: 0.1110 - val_bb_acc: 0.5606 - val_class_acc: 0.9848\n",
      "Epoch 5/10\n",
      "292/292 [==============================] - 0s 993us/step - loss: 1.2634 - bb_loss: 1153.0481 - class_loss: 0.1104 - bb_acc: 0.5548 - class_acc: 0.9932 - val_loss: 7.4601 - val_bb_loss: 7316.1880 - val_class_loss: 0.1439 - val_bb_acc: 0.5152 - val_class_acc: 0.9848\n",
      "Epoch 6/10\n",
      "292/292 [==============================] - 0s 1ms/step - loss: 1.2662 - bb_loss: 1139.2167 - class_loss: 0.1270 - bb_acc: 0.5616 - class_acc: 0.9863 - val_loss: 7.7010 - val_bb_loss: 7456.7386 - val_class_loss: 0.2442 - val_bb_acc: 0.5152 - val_class_acc: 0.9848\n",
      "Epoch 7/10\n",
      "292/292 [==============================] - 0s 1ms/step - loss: 1.1967 - bb_loss: 1185.2826 - class_loss: 0.0114 - bb_acc: 0.5205 - class_acc: 0.9966 - val_loss: 8.1531 - val_bb_loss: 7906.3433 - val_class_loss: 0.2468 - val_bb_acc: 0.3788 - val_class_acc: 0.9848\n",
      "Epoch 8/10\n",
      "292/292 [==============================] - 0s 1ms/step - loss: 1.1772 - bb_loss: 1044.4773 - class_loss: 0.1327 - bb_acc: 0.6096 - class_acc: 0.9897 - val_loss: 8.0595 - val_bb_loss: 7770.6569 - val_class_loss: 0.2888 - val_bb_acc: 0.4848 - val_class_acc: 0.9697\n",
      "Epoch 9/10\n",
      "292/292 [==============================] - 0s 986us/step - loss: 1.1122 - bb_loss: 1100.3535 - class_loss: 0.0118 - bb_acc: 0.6233 - class_acc: 0.9966 - val_loss: 7.7209 - val_bb_loss: 7402.0007 - val_class_loss: 0.3189 - val_bb_acc: 0.5152 - val_class_acc: 0.9545\n",
      "Epoch 10/10\n",
      "292/292 [==============================] - 0s 1ms/step - loss: 1.2435 - bb_loss: 1148.0666 - class_loss: 0.0954 - bb_acc: 0.6096 - class_acc: 0.9932 - val_loss: 8.7896 - val_bb_loss: 8225.2018 - val_class_loss: 0.5644 - val_bb_acc: 0.5152 - val_class_acc: 0.9545\n"
     ]
    },
    {
     "data": {
      "text/plain": [
       "<keras.callbacks.History at 0x7f62803bda58>"
      ]
     },
     "execution_count": 110,
     "metadata": {},
     "output_type": "execute_result"
    }
   ],
   "source": [
    "model.fit(conv_feat, [resized_trn_bb_box, trn_y], batch_size = 44, epochs=10, \n",
    "             validation_data=(conv_val_feat, [resized_val_bb_box, val_y]))"
   ]
  },
  {
   "cell_type": "code",
   "execution_count": 111,
   "metadata": {
    "collapsed": true
   },
   "outputs": [
    {
     "name": "stdout",
     "output_type": "stream",
     "text": [
      "Train on 292 samples, validate on 66 samples\n",
      "Epoch 1/10\n",
      "292/292 [==============================] - 0s 982us/step - loss: 1.1046 - bb_loss: 938.9492 - class_loss: 0.1656 - bb_acc: 0.5856 - class_acc: 0.9863 - val_loss: 7.8946 - val_bb_loss: 7435.7363 - val_class_loss: 0.4589 - val_bb_acc: 0.5303 - val_class_acc: 0.9545\n",
      "Epoch 2/10\n",
      "292/292 [==============================] - 0s 1ms/step - loss: 1.1882 - bb_loss: 1020.8061 - class_loss: 0.1674 - bb_acc: 0.5890 - class_acc: 0.9897 - val_loss: 8.8707 - val_bb_loss: 8520.3649 - val_class_loss: 0.3503 - val_bb_acc: 0.5303 - val_class_acc: 0.9697\n",
      "Epoch 3/10\n",
      "292/292 [==============================] - 0s 1ms/step - loss: 1.2042 - bb_loss: 948.0900 - class_loss: 0.2561 - bb_acc: 0.6062 - class_acc: 0.9795 - val_loss: 8.2165 - val_bb_loss: 7851.1956 - val_class_loss: 0.3653 - val_bb_acc: 0.5000 - val_class_acc: 0.9697\n",
      "Epoch 4/10\n",
      "292/292 [==============================] - 0s 1ms/step - loss: 1.0396 - bb_loss: 809.8551 - class_loss: 0.2298 - bb_acc: 0.5719 - class_acc: 0.9829 - val_loss: 8.6924 - val_bb_loss: 8353.7827 - val_class_loss: 0.3386 - val_bb_acc: 0.5000 - val_class_acc: 0.9697\n",
      "Epoch 5/10\n",
      "292/292 [==============================] - 0s 1ms/step - loss: 1.2621 - bb_loss: 939.7779 - class_loss: 0.3223 - bb_acc: 0.5925 - class_acc: 0.9760 - val_loss: 9.1417 - val_bb_loss: 8883.7502 - val_class_loss: 0.2579 - val_bb_acc: 0.4697 - val_class_acc: 0.9697\n",
      "Epoch 6/10\n",
      "292/292 [==============================] - 0s 1ms/step - loss: 0.9016 - bb_loss: 815.1203 - class_loss: 0.0865 - bb_acc: 0.5753 - class_acc: 0.9863 - val_loss: 8.5220 - val_bb_loss: 8270.9740 - val_class_loss: 0.2510 - val_bb_acc: 0.5152 - val_class_acc: 0.9848\n",
      "Epoch 7/10\n",
      "292/292 [==============================] - 0s 1ms/step - loss: 0.8247 - bb_loss: 791.0824 - class_loss: 0.0336 - bb_acc: 0.5856 - class_acc: 0.9932 - val_loss: 8.9986 - val_bb_loss: 8754.3542 - val_class_loss: 0.2442 - val_bb_acc: 0.4545 - val_class_acc: 0.9848\n",
      "Epoch 8/10\n",
      "292/292 [==============================] - 0s 1ms/step - loss: 0.7878 - bb_loss: 731.7395 - class_loss: 0.0561 - bb_acc: 0.5308 - class_acc: 0.9966 - val_loss: 8.9820 - val_bb_loss: 8737.8315 - val_class_loss: 0.2442 - val_bb_acc: 0.4697 - val_class_acc: 0.9848\n",
      "Epoch 9/10\n",
      "292/292 [==============================] - 0s 1ms/step - loss: 0.8215 - bb_loss: 701.0937 - class_loss: 0.1204 - bb_acc: 0.6130 - class_acc: 0.9863 - val_loss: 8.7913 - val_bb_loss: 8546.9303 - val_class_loss: 0.2444 - val_bb_acc: 0.5152 - val_class_acc: 0.9848\n",
      "Epoch 10/10\n",
      "292/292 [==============================] - 0s 998us/step - loss: 0.7763 - bb_loss: 773.2813 - class_loss: 0.0030 - bb_acc: 0.6130 - class_acc: 0.9966 - val_loss: 9.2365 - val_bb_loss: 8992.2409 - val_class_loss: 0.2443 - val_bb_acc: 0.5152 - val_class_acc: 0.9848\n"
     ]
    },
    {
     "data": {
      "text/plain": [
       "<keras.callbacks.History at 0x7f62807703c8>"
      ]
     },
     "execution_count": 111,
     "metadata": {},
     "output_type": "execute_result"
    }
   ],
   "source": [
    "model.fit(conv_feat, [resized_trn_bb_box, trn_y], batch_size = 44, epochs=10, \n",
    "             validation_data=(conv_val_feat, [resized_val_bb_box, val_y]))"
   ]
  },
  {
   "cell_type": "code",
   "execution_count": 126,
   "metadata": {
    "collapsed": true
   },
   "outputs": [
    {
     "name": "stdout",
     "output_type": "stream",
     "text": [
      "Train on 292 samples, validate on 66 samples\n",
      "Epoch 1/20\n",
      "292/292 [==============================] - 0s 1ms/step - loss: 0.8914 - bb_loss: 785.0055 - class_loss: 0.1063 - bb_acc: 0.6267 - class_acc: 0.9897 - val_loss: 8.9896 - val_bb_loss: 8745.4160 - val_class_loss: 0.2442 - val_bb_acc: 0.5152 - val_class_acc: 0.9848\n",
      "Epoch 2/20\n",
      "292/292 [==============================] - 0s 980us/step - loss: 0.7131 - bb_loss: 713.0486 - class_loss: 2.4413e-06 - bb_acc: 0.5959 - class_acc: 1.0000 - val_loss: 9.2725 - val_bb_loss: 9028.2884 - val_class_loss: 0.2442 - val_bb_acc: 0.5152 - val_class_acc: 0.9848\n",
      "Epoch 3/20\n",
      "292/292 [==============================] - 0s 956us/step - loss: 0.6563 - bb_loss: 605.1537 - class_loss: 0.0511 - bb_acc: 0.6610 - class_acc: 0.9966 - val_loss: 9.3614 - val_bb_loss: 9117.0378 - val_class_loss: 0.2443 - val_bb_acc: 0.5606 - val_class_acc: 0.9848\n",
      "Epoch 4/20\n",
      "292/292 [==============================] - 0s 989us/step - loss: 0.7782 - bb_loss: 772.0508 - class_loss: 0.0062 - bb_acc: 0.5925 - class_acc: 0.9966 - val_loss: 9.0631 - val_bb_loss: 8748.4880 - val_class_loss: 0.3146 - val_bb_acc: 0.5152 - val_class_acc: 0.9697\n",
      "Epoch 5/20\n",
      "292/292 [==============================] - 0s 990us/step - loss: 0.7948 - bb_loss: 663.5094 - class_loss: 0.1312 - bb_acc: 0.6233 - class_acc: 0.9897 - val_loss: 9.5802 - val_bb_loss: 9262.9964 - val_class_loss: 0.3172 - val_bb_acc: 0.5303 - val_class_acc: 0.9697\n",
      "Epoch 6/20\n",
      "292/292 [==============================] - 0s 995us/step - loss: 0.6765 - bb_loss: 676.5318 - class_loss: 7.0204e-07 - bb_acc: 0.5685 - class_acc: 1.0000 - val_loss: 9.5647 - val_bb_loss: 9165.3978 - val_class_loss: 0.3993 - val_bb_acc: 0.5758 - val_class_acc: 0.9697\n",
      "Epoch 7/20\n",
      "292/292 [==============================] - 0s 996us/step - loss: 0.6725 - bb_loss: 617.1858 - class_loss: 0.0553 - bb_acc: 0.6027 - class_acc: 0.9966 - val_loss: 9.6637 - val_bb_loss: 9198.4583 - val_class_loss: 0.4652 - val_bb_acc: 0.5909 - val_class_acc: 0.9697\n",
      "Epoch 8/20\n",
      "292/292 [==============================] - 0s 978us/step - loss: 0.6103 - bb_loss: 550.4656 - class_loss: 0.0598 - bb_acc: 0.6267 - class_acc: 0.9932 - val_loss: 9.7223 - val_bb_loss: 9233.9754 - val_class_loss: 0.4883 - val_bb_acc: 0.5303 - val_class_acc: 0.9697\n",
      "Epoch 9/20\n",
      "292/292 [==============================] - 0s 972us/step - loss: 0.5775 - bb_loss: 520.0358 - class_loss: 0.0574 - bb_acc: 0.6473 - class_acc: 0.9966 - val_loss: 9.7956 - val_bb_loss: 9307.1478 - val_class_loss: 0.4884 - val_bb_acc: 0.5606 - val_class_acc: 0.9697\n",
      "Epoch 10/20\n",
      "292/292 [==============================] - 0s 995us/step - loss: 0.5860 - bb_loss: 561.9577 - class_loss: 0.0241 - bb_acc: 0.6164 - class_acc: 0.9966 - val_loss: 9.9643 - val_bb_loss: 9489.2620 - val_class_loss: 0.4751 - val_bb_acc: 0.5303 - val_class_acc: 0.9697\n",
      "Epoch 11/20\n",
      "292/292 [==============================] - 0s 1ms/step - loss: 0.7548 - bb_loss: 603.6412 - class_loss: 0.1511 - bb_acc: 0.6096 - class_acc: 0.9863 - val_loss: 10.0750 - val_bb_loss: 9607.8862 - val_class_loss: 0.4671 - val_bb_acc: 0.5303 - val_class_acc: 0.9697\n",
      "Epoch 12/20\n",
      "292/292 [==============================] - 0s 1ms/step - loss: 0.5791 - bb_loss: 544.1542 - class_loss: 0.0350 - bb_acc: 0.6438 - class_acc: 0.9932 - val_loss: 10.2346 - val_bb_loss: 9832.2749 - val_class_loss: 0.4024 - val_bb_acc: 0.5606 - val_class_acc: 0.9697\n",
      "Epoch 13/20\n",
      "292/292 [==============================] - 0s 1ms/step - loss: 0.5151 - bb_loss: 513.0660 - class_loss: 0.0020 - bb_acc: 0.6130 - class_acc: 1.0000 - val_loss: 9.8731 - val_bb_loss: 9560.1924 - val_class_loss: 0.3129 - val_bb_acc: 0.5606 - val_class_acc: 0.9697\n",
      "Epoch 14/20\n",
      "292/292 [==============================] - 0s 1ms/step - loss: 0.5217 - bb_loss: 467.6964 - class_loss: 0.0540 - bb_acc: 0.6336 - class_acc: 0.9863 - val_loss: 9.5386 - val_bb_loss: 9079.1950 - val_class_loss: 0.4594 - val_bb_acc: 0.4848 - val_class_acc: 0.9697\n",
      "Epoch 15/20\n",
      "292/292 [==============================] - 0s 1ms/step - loss: 0.5570 - bb_loss: 480.3554 - class_loss: 0.0766 - bb_acc: 0.6027 - class_acc: 0.9932 - val_loss: 9.8901 - val_bb_loss: 9320.3934 - val_class_loss: 0.5697 - val_bb_acc: 0.5152 - val_class_acc: 0.9545\n",
      "Epoch 16/20\n",
      "292/292 [==============================] - 0s 1ms/step - loss: 0.5603 - bb_loss: 507.9341 - class_loss: 0.0524 - bb_acc: 0.6644 - class_acc: 0.9966 - val_loss: 9.7960 - val_bb_loss: 9221.3164 - val_class_loss: 0.5747 - val_bb_acc: 0.5152 - val_class_acc: 0.9545\n",
      "Epoch 17/20\n",
      "292/292 [==============================] - 0s 1ms/step - loss: 0.5535 - bb_loss: 498.2981 - class_loss: 0.0552 - bb_acc: 0.6130 - class_acc: 0.9966 - val_loss: 10.0532 - val_bb_loss: 9487.5158 - val_class_loss: 0.5657 - val_bb_acc: 0.5303 - val_class_acc: 0.9545\n",
      "Epoch 18/20\n",
      "292/292 [==============================] - 0s 1ms/step - loss: 0.5540 - bb_loss: 443.6344 - class_loss: 0.1104 - bb_acc: 0.6301 - class_acc: 0.9932 - val_loss: 10.1751 - val_bb_loss: 9593.1514 - val_class_loss: 0.5819 - val_bb_acc: 0.5000 - val_class_acc: 0.9545\n",
      "Epoch 19/20\n",
      "292/292 [==============================] - 0s 1ms/step - loss: 0.4680 - bb_loss: 392.2326 - class_loss: 0.0757 - bb_acc: 0.6130 - class_acc: 0.9932 - val_loss: 9.8206 - val_bb_loss: 9314.9349 - val_class_loss: 0.5056 - val_bb_acc: 0.5000 - val_class_acc: 0.9545\n",
      "Epoch 20/20\n",
      "292/292 [==============================] - 0s 1ms/step - loss: 0.4200 - bb_loss: 418.1880 - class_loss: 0.0018 - bb_acc: 0.6199 - class_acc: 1.0000 - val_loss: 9.7854 - val_bb_loss: 9333.0124 - val_class_loss: 0.4524 - val_bb_acc: 0.5152 - val_class_acc: 0.9697\n"
     ]
    },
    {
     "data": {
      "text/plain": [
       "<keras.callbacks.History at 0x7f626b683128>"
      ]
     },
     "execution_count": 126,
     "metadata": {},
     "output_type": "execute_result"
    }
   ],
   "source": [
    "model.fit(conv_feat, [resized_trn_bb_box, trn_y], batch_size = 44, epochs=20, \n",
    "             validation_data=(conv_val_feat, [resized_val_bb_box, val_y]))"
   ]
  },
  {
   "cell_type": "code",
   "execution_count": 127,
   "metadata": {
    "collapsed": false
   },
   "outputs": [
    {
     "name": "stdout",
     "output_type": "stream",
     "text": [
      "Train on 292 samples, validate on 66 samples\n",
      "Epoch 1/20\n",
      "292/292 [==============================] - 0s 968us/step - loss: 0.4127 - bb_loss: 388.8212 - class_loss: 0.0238 - bb_acc: 0.6096 - class_acc: 0.9966 - val_loss: 9.6944 - val_bb_loss: 9201.8548 - val_class_loss: 0.4925 - val_bb_acc: 0.5152 - val_class_acc: 0.9697\n",
      "Epoch 2/20\n",
      "292/292 [==============================] - 0s 973us/step - loss: 0.6319 - bb_loss: 510.2750 - class_loss: 0.1216 - bb_acc: 0.6370 - class_acc: 0.9897 - val_loss: 9.8216 - val_bb_loss: 9331.0125 - val_class_loss: 0.4906 - val_bb_acc: 0.5303 - val_class_acc: 0.9697\n",
      "Epoch 3/20\n",
      "292/292 [==============================] - 0s 1ms/step - loss: 0.4182 - bb_loss: 390.5158 - class_loss: 0.0277 - bb_acc: 0.6747 - class_acc: 0.9932 - val_loss: 9.6606 - val_bb_loss: 9172.2070 - val_class_loss: 0.4884 - val_bb_acc: 0.5303 - val_class_acc: 0.9697\n",
      "Epoch 4/20\n",
      "292/292 [==============================] - 0s 982us/step - loss: 0.3925 - bb_loss: 386.3856 - class_loss: 0.0062 - bb_acc: 0.6301 - class_acc: 0.9966 - val_loss: 9.5898 - val_bb_loss: 9101.3496 - val_class_loss: 0.4884 - val_bb_acc: 0.5455 - val_class_acc: 0.9697\n",
      "Epoch 5/20\n",
      "292/292 [==============================] - 0s 1ms/step - loss: 0.4411 - bb_loss: 384.8064 - class_loss: 0.0563 - bb_acc: 0.6849 - class_acc: 0.9966 - val_loss: 9.5429 - val_bb_loss: 9054.3099 - val_class_loss: 0.4886 - val_bb_acc: 0.5152 - val_class_acc: 0.9697\n",
      "Epoch 6/20\n",
      "292/292 [==============================] - 0s 1ms/step - loss: 0.4402 - bb_loss: 381.6286 - class_loss: 0.0586 - bb_acc: 0.6884 - class_acc: 0.9932 - val_loss: 9.6889 - val_bb_loss: 9183.2983 - val_class_loss: 0.5056 - val_bb_acc: 0.5303 - val_class_acc: 0.9545\n",
      "Epoch 7/20\n",
      "292/292 [==============================] - 0s 1ms/step - loss: 0.5333 - bb_loss: 378.7912 - class_loss: 0.1546 - bb_acc: 0.6644 - class_acc: 0.9863 - val_loss: 9.9134 - val_bb_loss: 9423.8268 - val_class_loss: 0.4896 - val_bb_acc: 0.5152 - val_class_acc: 0.9697\n",
      "Epoch 8/20\n",
      "292/292 [==============================] - 0s 1ms/step - loss: 0.5659 - bb_loss: 404.1861 - class_loss: 0.1617 - bb_acc: 0.6507 - class_acc: 0.9863 - val_loss: 9.4707 - val_bb_loss: 9019.2580 - val_class_loss: 0.4515 - val_bb_acc: 0.5455 - val_class_acc: 0.9697\n",
      "Epoch 9/20\n",
      "292/292 [==============================] - 0s 1ms/step - loss: 0.4418 - bb_loss: 343.2917 - class_loss: 0.0985 - bb_acc: 0.6610 - class_acc: 0.9932 - val_loss: 9.7617 - val_bb_loss: 9467.4290 - val_class_loss: 0.2943 - val_bb_acc: 0.5606 - val_class_acc: 0.9697\n",
      "Epoch 10/20\n",
      "292/292 [==============================] - 0s 989us/step - loss: 0.3718 - bb_loss: 323.0230 - class_loss: 0.0488 - bb_acc: 0.6541 - class_acc: 0.9966 - val_loss: 9.4543 - val_bb_loss: 9203.3973 - val_class_loss: 0.2509 - val_bb_acc: 0.5606 - val_class_acc: 0.9848\n",
      "Epoch 11/20\n",
      "292/292 [==============================] - 0s 990us/step - loss: 0.4256 - bb_loss: 368.7214 - class_loss: 0.0569 - bb_acc: 0.6952 - class_acc: 0.9966 - val_loss: 9.5040 - val_bb_loss: 9258.9546 - val_class_loss: 0.2450 - val_bb_acc: 0.5455 - val_class_acc: 0.9848\n",
      "Epoch 12/20\n",
      "292/292 [==============================] - 0s 1ms/step - loss: 0.4388 - bb_loss: 337.2473 - class_loss: 0.1016 - bb_acc: 0.6575 - class_acc: 0.9897 - val_loss: 9.3156 - val_bb_loss: 8961.2708 - val_class_loss: 0.3544 - val_bb_acc: 0.5152 - val_class_acc: 0.9697\n",
      "Epoch 13/20\n",
      "292/292 [==============================] - 0s 1ms/step - loss: 0.3962 - bb_loss: 393.2575 - class_loss: 0.0029 - bb_acc: 0.6884 - class_acc: 1.0000 - val_loss: 9.4449 - val_bb_loss: 8732.1854 - val_class_loss: 0.7127 - val_bb_acc: 0.5152 - val_class_acc: 0.9394\n",
      "Epoch 14/20\n",
      "292/292 [==============================] - 0s 1ms/step - loss: 0.4499 - bb_loss: 403.9899 - class_loss: 0.0459 - bb_acc: 0.6541 - class_acc: 0.9897 - val_loss: 10.0817 - val_bb_loss: 9414.2342 - val_class_loss: 0.6675 - val_bb_acc: 0.5303 - val_class_acc: 0.9545\n",
      "Epoch 15/20\n",
      "292/292 [==============================] - 0s 1ms/step - loss: 0.4319 - bb_loss: 329.7419 - class_loss: 0.1021 - bb_acc: 0.6781 - class_acc: 0.9932 - val_loss: 9.6512 - val_bb_loss: 8926.5960 - val_class_loss: 0.7246 - val_bb_acc: 0.5303 - val_class_acc: 0.9545\n",
      "Epoch 16/20\n",
      "292/292 [==============================] - 0s 1ms/step - loss: 0.5382 - bb_loss: 481.2737 - class_loss: 0.0570 - bb_acc: 0.7260 - class_acc: 0.9966 - val_loss: 9.7358 - val_bb_loss: 9010.5825 - val_class_loss: 0.7252 - val_bb_acc: 0.5152 - val_class_acc: 0.9545\n",
      "Epoch 17/20\n",
      "292/292 [==============================] - 0s 1ms/step - loss: 0.3749 - bb_loss: 353.5434 - class_loss: 0.0214 - bb_acc: 0.6712 - class_acc: 0.9932 - val_loss: 9.7761 - val_bb_loss: 9123.0708 - val_class_loss: 0.6530 - val_bb_acc: 0.5455 - val_class_acc: 0.9545\n",
      "Epoch 18/20\n",
      "292/292 [==============================] - 0s 1ms/step - loss: 0.3500 - bb_loss: 322.5821 - class_loss: 0.0274 - bb_acc: 0.6918 - class_acc: 0.9966 - val_loss: 9.2850 - val_bb_loss: 8716.0749 - val_class_loss: 0.5689 - val_bb_acc: 0.5152 - val_class_acc: 0.9545\n",
      "Epoch 19/20\n",
      "292/292 [==============================] - 0s 1ms/step - loss: 0.4109 - bb_loss: 402.7663 - class_loss: 0.0081 - bb_acc: 0.6233 - class_acc: 0.9966 - val_loss: 9.2529 - val_bb_loss: 8714.5282 - val_class_loss: 0.5384 - val_bb_acc: 0.5152 - val_class_acc: 0.9545\n",
      "Epoch 20/20\n",
      "292/292 [==============================] - 0s 1ms/step - loss: 0.3607 - bb_loss: 357.9258 - class_loss: 0.0027 - bb_acc: 0.6678 - class_acc: 1.0000 - val_loss: 9.5608 - val_bb_loss: 9019.2290 - val_class_loss: 0.5416 - val_bb_acc: 0.5909 - val_class_acc: 0.9545\n"
     ]
    },
    {
     "data": {
      "text/plain": [
       "<keras.callbacks.History at 0x7f626b6832e8>"
      ]
     },
     "execution_count": 127,
     "metadata": {},
     "output_type": "execute_result"
    }
   ],
   "source": [
    "model.fit(conv_feat, [resized_trn_bb_box, trn_y], batch_size = 44, epochs=20, \n",
    "             validation_data=(conv_val_feat, [resized_val_bb_box, val_y]))"
   ]
  },
  {
   "cell_type": "code",
   "execution_count": 129,
   "metadata": {
    "collapsed": true
   },
   "outputs": [],
   "source": [
    "model.save_weights(path + 'results/bb_wt1.h5')"
   ]
  },
  {
   "cell_type": "code",
   "execution_count": 130,
   "metadata": {
    "collapsed": false
   },
   "outputs": [],
   "source": [
    "model.load_weights(path + 'results/bb_wt1.h5')"
   ]
  },
  {
   "cell_type": "markdown",
   "metadata": {},
   "source": [
    "## Testing image for both cls and bb"
   ]
  },
  {
   "cell_type": "code",
   "execution_count": 146,
   "metadata": {
    "collapsed": true
   },
   "outputs": [],
   "source": [
    "im = cv2.imread('2002_09_06_img_11131.jpg', cv2.COLOR_BGR2RGB)\n",
    "im = cv2.resize(im, (224, 224))\n",
    "im = np.expand_dims(im, axis=0)"
   ]
  },
  {
   "cell_type": "code",
   "execution_count": 147,
   "metadata": {
    "collapsed": false
   },
   "outputs": [
    {
     "data": {
      "text/plain": [
       "(1, 224, 224, 3)"
      ]
     },
     "execution_count": 147,
     "metadata": {},
     "output_type": "execute_result"
    }
   ],
   "source": [
    "im.shape"
   ]
  },
  {
   "cell_type": "code",
   "execution_count": 148,
   "metadata": {
    "collapsed": false
   },
   "outputs": [
    {
     "data": {
      "text/plain": [
       "[array([[ 11.75418091,  -0.49600637,  31.08220673,  28.55907631]], dtype=float32),\n",
       " array([[ 1.,  0.]], dtype=float32)]"
      ]
     },
     "execution_count": 148,
     "metadata": {},
     "output_type": "execute_result"
    }
   ],
   "source": [
    "test_conv_feat = conv_model.predict(im)\n",
    "result = model.predict(test_conv_feat)\n",
    "result"
   ]
  },
  {
   "cell_type": "code",
   "execution_count": 141,
   "metadata": {
    "collapsed": false
   },
   "outputs": [
    {
     "data": {
      "text/plain": [
       "'face'"
      ]
     },
     "execution_count": 141,
     "metadata": {},
     "output_type": "execute_result"
    }
   ],
   "source": [
    "classes[np.argmax(result[1])]"
   ]
  },
  {
   "cell_type": "code",
   "execution_count": 142,
   "metadata": {
    "collapsed": false
   },
   "outputs": [
    {
     "data": {
      "text/plain": [
       "array([ 15.18078899,  -0.54987586,  39.13467789,  32.08947372], dtype=float32)"
      ]
     },
     "execution_count": 142,
     "metadata": {},
     "output_type": "execute_result"
    }
   ],
   "source": [
    "result[0][0]"
   ]
  },
  {
   "cell_type": "code",
   "execution_count": 143,
   "metadata": {
    "collapsed": false,
    "scrolled": true
   },
   "outputs": [],
   "source": [
    "test_xmin, test_ymin, test_xmax, test_ymax = result[0][0]"
   ]
  },
  {
   "cell_type": "code",
   "execution_count": 145,
   "metadata": {
    "collapsed": false
   },
   "outputs": [
    {
     "data": {
      "text/plain": [
       "255"
      ]
     },
     "execution_count": 145,
     "metadata": {},
     "output_type": "execute_result"
    }
   ],
   "source": [
    "test_img = cv2.imread('2002_07_25_img_135.jpg', cv2.COLOR_BGR2RGB)\n",
    "test_img = cv2.resize(test_img, (224, 224))\n",
    "\n",
    "\n",
    "test_img = cv2.rectangle(test_img, (test_xmin, test_ymin), (test_xmax, test_ymax), (0,0,255), 2)\n",
    "\n",
    "cv2.imshow('Image', test_img)\n",
    "cv2.waitKey(0)"
   ]
  },
  {
   "cell_type": "code",
   "execution_count": null,
   "metadata": {
    "collapsed": true
   },
   "outputs": [],
   "source": []
  }
 ],
 "metadata": {
  "anaconda-cloud": {},
  "kernelspec": {
   "display_name": "Python [default]",
   "language": "python",
   "name": "python3"
  },
  "language_info": {
   "codemirror_mode": {
    "name": "ipython",
    "version": 3
   },
   "file_extension": ".py",
   "mimetype": "text/x-python",
   "name": "python",
   "nbconvert_exporter": "python",
   "pygments_lexer": "ipython3",
   "version": "3.5.2"
  }
 },
 "nbformat": 4,
 "nbformat_minor": 1
}
